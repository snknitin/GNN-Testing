{
 "cells": [
  {
   "cell_type": "markdown",
   "id": "e2af9abf",
   "metadata": {},
   "source": [
    "# Graphdata Manipulation\n",
    "\n",
    "Code to decouple some of the data prep steps , to make it available during runtime for simulation and constraint changes. Standardization and normalization shall be done separately before passing it to the model for training"
   ]
  },
  {
   "cell_type": "code",
   "execution_count": 1,
   "id": "0c947a37",
   "metadata": {},
   "outputs": [
    {
     "data": {
      "application/javascript": [
       "IPython.notebook.set_autosave_interval(120000)"
      ]
     },
     "metadata": {},
     "output_type": "display_data"
    },
    {
     "name": "stdout",
     "output_type": "stream",
     "text": [
      "Autosaving every 120 seconds\n"
     ]
    }
   ],
   "source": [
    "# Necessary Imports\n",
    "%autosave 120\n",
    "\n",
    "import os\n",
    "import lux\n",
    "import pandas as pd\n",
    "pd.set_option('display.max_columns', None)\n",
    "\n",
    "import numpy as np\n",
    "import time\n",
    "import itertools\n",
    "import functools\n",
    "import matplotlib.pyplot as plt\n",
    "from IPython.display import display\n",
    "%matplotlib inline\n",
    "np.random.seed(42)\n",
    "\n",
    "import seaborn as sns\n",
    "import math\n",
    "import json\n",
    "import time\n",
    "import pickle\n",
    "import random\n",
    "from datetime import date, datetime, timedelta\n",
    "import warnings\n",
    "warnings.filterwarnings(\"ignore\")\n",
    "from sklearn.preprocessing import minmax_scale\n",
    "\n",
    "# loading arguments from files\n",
    "%load_ext autoreload\n",
    "%autoreload 2"
   ]
  },
  {
   "cell_type": "code",
   "execution_count": 2,
   "id": "a56cecdc",
   "metadata": {},
   "outputs": [
    {
     "data": {
      "text/plain": [
       "0"
      ]
     },
     "execution_count": 2,
     "metadata": {},
     "output_type": "execute_result"
    }
   ],
   "source": [
    "# PyTorch related imports\n",
    "import torch\n",
    "import torch_geometric.datasets as datasets\n",
    "import torch_geometric.data as data\n",
    "import torch_geometric.transforms as transforms\n",
    "import networkx as nx\n",
    "from torch_geometric.utils.convert import to_networkx\n",
    "os.environ[\"CUDA_VISIBLE_DEVICES\"] = \"1\" \n",
    "torch.cuda.device_count()"
   ]
  },
  {
   "cell_type": "code",
   "execution_count": 3,
   "id": "cf17cfa8",
   "metadata": {},
   "outputs": [],
   "source": [
    "from IPython.core.interactiveshell import InteractiveShell\n",
    "InteractiveShell.ast_node_interactivity = \"all\""
   ]
  },
  {
   "cell_type": "code",
   "execution_count": 4,
   "id": "e1cf8f60",
   "metadata": {},
   "outputs": [],
   "source": [
    "from pathlib import Path\n",
    "basepath = Path(os.getcwd())"
   ]
  },
  {
   "cell_type": "code",
   "execution_count": 5,
   "id": "644ef257",
   "metadata": {},
   "outputs": [],
   "source": [
    "# make sure your working directory is the repository root.\n",
    "if basepath.name != \"DS-Simulations\":\n",
    "    if basepath.name== \"Notebooks\":\n",
    "        # If t is in Notebook inside code\n",
    "        os.chdir(basepath.parent.parent.parent)\n",
    "    else:\n",
    "        #If it is in code folder\n",
    "        os.chdir(basepath.parent.parent)\n",
    "basepath = Path(os.getcwd())"
   ]
  },
  {
   "cell_type": "code",
   "execution_count": 6,
   "id": "f18c8a7f",
   "metadata": {},
   "outputs": [
    {
     "data": {
      "text/plain": [
       "PosixPath('/Users/n0s011m/OneDrive - Walmart Inc/Nitin U drive/GIT_ROOT/DS-Simulations')"
      ]
     },
     "execution_count": 6,
     "metadata": {},
     "output_type": "execute_result"
    }
   ],
   "source": [
    "basepath"
   ]
  },
  {
   "cell_type": "code",
   "execution_count": 7,
   "id": "6eada969",
   "metadata": {},
   "outputs": [],
   "source": [
    "from SharedUtils.shared_utils import walk_up_folder"
   ]
  },
  {
   "cell_type": "code",
   "execution_count": 8,
   "id": "edfbf513",
   "metadata": {},
   "outputs": [],
   "source": [
    "from google.cloud import storage\n",
    "from google.oauth2 import service_account\n",
    "\n",
    "os.environ[\"GOOGLE_APPLICATION_CREDENTIALS\"]= os.path.join(walk_up_folder(os.getcwd(), 5), \"wmt-mobius-dev-svcmobius.json\")"
   ]
  },
  {
   "cell_type": "code",
   "execution_count": 9,
   "id": "4d5eea81",
   "metadata": {},
   "outputs": [
    {
     "data": {
      "text/plain": [
       "'/Users/n0s011m/OneDrive - Walmart Inc/Nitin U drive/GIT_ROOT/DS-Simulations'"
      ]
     },
     "execution_count": 9,
     "metadata": {},
     "output_type": "execute_result"
    }
   ],
   "source": [
    "os.path.join(walk_up_folder(os.getcwd()))"
   ]
  },
  {
   "cell_type": "markdown",
   "id": "dd63e577",
   "metadata": {},
   "source": [
    "## Data object load and modify"
   ]
  },
  {
   "cell_type": "code",
   "execution_count": 10,
   "id": "dc77bd28",
   "metadata": {},
   "outputs": [],
   "source": [
    "from GraphData.Code.graph_dataprep import WmtNetworkDataset\n",
    "root_dir = os.path.join(os.getcwd(), \"dataset/root/\")\n",
    "data_1 = WmtNetworkDataset(root_dir)[0]"
   ]
  },
  {
   "cell_type": "code",
   "execution_count": 11,
   "id": "0bd142aa",
   "metadata": {},
   "outputs": [
    {
     "data": {
      "text/plain": [
       "HeteroData(\n",
       "  \u001b[1mproduct\u001b[0m={\n",
       "    x=[231219, 759],\n",
       "    num_nodes=231219\n",
       "  },\n",
       "  \u001b[1mcustomer\u001b[0m={\n",
       "    x=[754603, 66],\n",
       "    num_nodes=754603\n",
       "  },\n",
       "  \u001b[1mshipnode\u001b[0m={\n",
       "    x=[9818, 68],\n",
       "    num_nodes=9818\n",
       "  },\n",
       "  \u001b[1m(customer, orders, product)\u001b[0m={\n",
       "    edge_index=[2, 1278555],\n",
       "    edge_attr=[1278555, 4],\n",
       "    edge_label=[1278555, 1]\n",
       "  },\n",
       "  \u001b[1m(shipnode, delivers, customer)\u001b[0m={\n",
       "    edge_index=[2, 1278555],\n",
       "    edge_attr=[1278555, 18],\n",
       "    edge_label=[1278555, 1]\n",
       "  }\n",
       ")"
      ]
     },
     "execution_count": 11,
     "metadata": {},
     "output_type": "execute_result"
    }
   ],
   "source": [
    "data_1"
   ]
  },
  {
   "cell_type": "code",
   "execution_count": 12,
   "id": "53d8f6a5",
   "metadata": {},
   "outputs": [
    {
     "data": {
      "text/plain": [
       "tensor([[1],\n",
       "        [1],\n",
       "        [1],\n",
       "        ...,\n",
       "        [1],\n",
       "        [1],\n",
       "        [2]])"
      ]
     },
     "execution_count": 12,
     "metadata": {},
     "output_type": "execute_result"
    }
   ],
   "source": [
    "data_1[(\"customer\", \"orders\", \"product\")].edge_label"
   ]
  },
  {
   "cell_type": "code",
   "execution_count": 55,
   "id": "66e2a062",
   "metadata": {},
   "outputs": [],
   "source": [
    "del g1,g2"
   ]
  },
  {
   "cell_type": "code",
   "execution_count": 56,
   "id": "fbd1db2d",
   "metadata": {},
   "outputs": [],
   "source": [
    "from torch_geometric.data import HeteroData\n",
    "from torch_geometric.data.collate import collate\n",
    "\n",
    "g1 = HeteroData()\n",
    "g2 = HeteroData()"
   ]
  },
  {
   "cell_type": "code",
   "execution_count": 57,
   "id": "1e0736c9",
   "metadata": {},
   "outputs": [],
   "source": [
    "def get_edges():\n",
    "    src = np.random.randint(0,5,15)\n",
    "    dest = np.random.randint(0,5, 15)\n",
    "    return [src,dest]"
   ]
  },
  {
   "cell_type": "code",
   "execution_count": 58,
   "id": "9303cced",
   "metadata": {},
   "outputs": [],
   "source": [
    "from torch_geometric.data import HeteroData\n",
    "from torch_geometric.data.collate import collate\n",
    "\n",
    "\n",
    "def get_edges():\n",
    "    src = np.random.randint(0,5,15)\n",
    "    dest = np.random.randint(0,5, 15)\n",
    "    return [src,dest]\n",
    "\n",
    "g1 = HeteroData() \n",
    "g1[\"node1\"].x = torch.tensor(np.round(np.random.rand(5,6)*10),dtype=torch.float)\n",
    "g1[\"node2\"].x = torch.tensor(np.round(np.random.rand(5,6)*20),dtype=torch.float)\n",
    "g1[\"node3\"].x = torch.tensor(np.round(np.random.rand(5,6)*10),dtype=torch.float)\n",
    "\n",
    "g1['node1', 'to', 'node3'].edge_index = torch.tensor(get_edges(),dtype=torch.float)\n",
    "g1['node1', 'to', 'node2'].edge_index = torch.tensor(get_edges(),dtype=torch.float)\n",
    "g1['node3', 'to', 'node2'].edge_index = torch.tensor(get_edges(),dtype=torch.float)\n",
    "\n",
    "g1['node1', 'to', 'node3'].edge_attr = torch.tensor(np.round(np.random.rand(15,6)*10),dtype=torch.float)\n",
    "g1['node1', 'to', 'node2'].edge_attr = torch.tensor(np.round(np.random.rand(15,3)*10),dtype=torch.float)\n",
    "g1['node3', 'to', 'node2'].edge_attr = torch.tensor(np.round(np.random.rand(15,5)*10),dtype=torch.float)\n",
    "\n",
    "g1[\"node1\", \"to\", \"node2\"].edge_label = torch.rand((15,1))\n",
    "g1[\"node1\", \"to\", \"node2\"].edge_label = torch.rand((15,1))\n",
    "\n",
    "\n",
    "\n",
    "node_types, edge_types = g1.metadata()\n",
    "for node_type in node_types:\n",
    "    g1[node_type].num_nodes = g1[node_type].x.size(0)\n",
    "\n",
    "g1, slices,_ = collate(g1.__class__,data_list = [g1],\n",
    "                      increment=False,\n",
    "                      add_batch=False,)"
   ]
  },
  {
   "cell_type": "code",
   "execution_count": 88,
   "id": "6e5fd93f",
   "metadata": {},
   "outputs": [
    {
     "data": {
      "text/plain": [
       "HeteroData(\n",
       "  \u001b[1mnode1\u001b[0m={\n",
       "    x=[125, 6],\n",
       "    num_nodes=125\n",
       "  },\n",
       "  \u001b[1mnode2\u001b[0m={\n",
       "    x=[200, 6],\n",
       "    num_nodes=200\n",
       "  },\n",
       "  \u001b[1mnode3\u001b[0m={\n",
       "    x=[10, 6],\n",
       "    num_nodes=10\n",
       "  },\n",
       "  \u001b[1m(node2, to, node1)\u001b[0m={\n",
       "    edge_index=[2, 350],\n",
       "    edge_attr=[350, 6],\n",
       "    edge_label=[350, 1]\n",
       "  },\n",
       "  \u001b[1m(node3, to, node2)\u001b[0m={\n",
       "    edge_index=[2, 350],\n",
       "    edge_attr=[350, 5],\n",
       "    edge_label=[350, 1]\n",
       "  }\n",
       ")"
      ]
     },
     "execution_count": 88,
     "metadata": {},
     "output_type": "execute_result"
    }
   ],
   "source": [
    "from torch_geometric.data import HeteroData\n",
    "from torch_geometric.data.collate import collate\n",
    "\n",
    "\n",
    "def get_edges(x,y):\n",
    "    src = np.random.randint(0,x,350)\n",
    "    dest = np.random.randint(0,y, 350)\n",
    "    return [src,dest]\n",
    "\n",
    "g1 = HeteroData() \n",
    "g1[\"node1\"].x = torch.tensor(np.round(np.random.rand(125,6)*10),dtype=torch.float)\n",
    "g1[\"node2\"].x = torch.tensor(np.round(np.random.rand(200,6)*20),dtype=torch.float)\n",
    "g1[\"node3\"].x = torch.tensor(np.round(np.random.rand(10,6)*10),dtype=torch.float)\n",
    "\n",
    "g1['node2', 'to', 'node1'].edge_index = torch.tensor(get_edges(200,125),dtype=torch.float)\n",
    "g1['node3', 'to', 'node2'].edge_index = torch.tensor(get_edges(10,200),dtype=torch.float)\n",
    "\n",
    "g1['node2', 'to', 'node1'].edge_attr = torch.tensor(np.round(np.random.rand(350,6)*10),dtype=torch.float)\n",
    "g1['node3', 'to', 'node2'].edge_attr = torch.tensor(np.round(np.random.rand(350,5)*10),dtype=torch.float)\n",
    "\n",
    "g1[\"node2\", \"to\", \"node1\"].edge_label = torch.rand((350,1))\n",
    "g1[\"node3\", \"to\", \"node2\"].edge_label = torch.rand((350,1))\n",
    "\n",
    "\n",
    "\n",
    "node_types, edge_types = g1.metadata()\n",
    "for node_type in node_types:\n",
    "    g1[node_type].num_nodes = g1[node_type].x.size(0)\n",
    "\n",
    "g1, slices,_ = collate(g1.__class__,data_list = [g1],\n",
    "                      increment=False,\n",
    "                      add_batch=False,)\n",
    "g1"
   ]
  },
  {
   "cell_type": "code",
   "execution_count": 59,
   "id": "6bd4d87a",
   "metadata": {},
   "outputs": [],
   "source": [
    "g2[\"node4\"].x = torch.tensor(np.round(np.random.rand(5,6)*10),dtype=torch.float)\n",
    "g2[\"node5\"].x = torch.tensor(np.round(np.random.rand(5,6)*20),dtype=torch.float)\n",
    "g2[\"node6\"].x = torch.tensor(np.round(np.random.rand(5,6)*10),dtype=torch.float)\n",
    "\n",
    "g2['node4', 'to', 'node6'].edge_index = torch.tensor(get_edges(),dtype=torch.float)\n",
    "g2['node4', 'to', 'node5'].edge_index = torch.tensor(get_edges(),dtype=torch.float)\n",
    "g2['node6', 'to', 'node5'].edge_index = torch.tensor(get_edges(),dtype=torch.float)\n",
    "\n",
    "g2['node4', 'to', 'node6'].edge_attr = torch.tensor(np.round(np.random.rand(15,6)*10),dtype=torch.float)\n",
    "g2['node4', 'to', 'node5'].edge_attr = torch.tensor(np.round(np.random.rand(15,3)*10),dtype=torch.float)\n",
    "g2['node6', 'to', 'node5'].edge_attr = torch.tensor(np.round(np.random.rand(15,5)*10),dtype=torch.float)\n",
    "\n",
    "node_types, edge_types = g2.metadata()\n",
    "for node_type in node_types:\n",
    "    g2[node_type].num_nodes = g2[node_type].x.size(0)\n",
    "\n",
    "g2, slices,_ = collate(g2.__class__,data_list = [g2],\n",
    "                      increment=False,\n",
    "                      add_batch=False,)"
   ]
  },
  {
   "cell_type": "code",
   "execution_count": 60,
   "id": "ae22677e",
   "metadata": {},
   "outputs": [
    {
     "data": {
      "text/plain": [
       "{'node1': tensor([[3., 7., 5., 2., 9., 4.],\n",
       "         [5., 9., 6., 1., 9., 6.],\n",
       "         [3., 1., 8., 6., 5., 9.],\n",
       "         [8., 2., 3., 2., 7., 0.],\n",
       "         [6., 8., 9., 3., 8., 1.]]),\n",
       " 'node2': tensor([[17.,  3.,  8., 16.,  3.,  5.],\n",
       "         [14., 14., 13., 14., 11.,  5.],\n",
       "         [ 7.,  4., 18., 12.,  8.,  9.],\n",
       "         [19.,  3., 12., 10., 12.,  0.],\n",
       "         [17., 19., 11., 14., 18., 14.]]),\n",
       " 'node3': tensor([[ 2.,  6.,  6.,  4.,  7.,  9.],\n",
       "         [ 9.,  5.,  1., 10.,  8.,  1.],\n",
       "         [ 9.,  9.,  5.,  6.,  4.,  1.],\n",
       "         [ 3.,  8.,  0.,  3.,  4.,  5.],\n",
       "         [ 9.,  3.,  3.,  7.,  5.,  2.]])}"
      ]
     },
     "execution_count": 60,
     "metadata": {},
     "output_type": "execute_result"
    }
   ],
   "source": [
    "g1.x_dict"
   ]
  },
  {
   "cell_type": "code",
   "execution_count": 61,
   "id": "44f89657",
   "metadata": {},
   "outputs": [
    {
     "data": {
      "text/plain": [
       "{'node4': tensor([[ 3.,  5.,  0.,  9.,  0.,  3.],\n",
       "         [ 9.,  7.,  3.,  3.,  0.,  7.],\n",
       "         [ 0.,  5., 10.,  1.,  9., 10.],\n",
       "         [ 1.,  9.,  5.,  9.,  6.,  7.],\n",
       "         [ 5.,  9.,  7.,  5.,  9.,  2.]]),\n",
       " 'node5': tensor([[ 3.,  3.,  7.,  5., 19.,  2.],\n",
       "         [14.,  4., 18., 19.,  9., 18.],\n",
       "         [ 0., 16.,  5., 18.,  0., 11.],\n",
       "         [15.,  5.,  4.,  2.,  7., 11.],\n",
       "         [ 2.,  8.,  0., 16.,  3.,  6.]]),\n",
       " 'node6': tensor([[ 0.,  4.,  8.,  4.,  2.,  8.],\n",
       "         [ 8.,  2.,  8.,  9.,  2.,  8.],\n",
       "         [ 7.,  5.,  1.,  1.,  9., 10.],\n",
       "         [ 7.,  4.,  6.,  6.,  4.,  1.],\n",
       "         [ 8.,  4.,  8.,  3.,  0.,  2.]])}"
      ]
     },
     "execution_count": 61,
     "metadata": {},
     "output_type": "execute_result"
    }
   ],
   "source": [
    "g2.x_dict"
   ]
  },
  {
   "cell_type": "code",
   "execution_count": 62,
   "id": "e4f44114",
   "metadata": {},
   "outputs": [
    {
     "data": {
      "text/plain": [
       "['node1', 'node2', 'node3']"
      ]
     },
     "execution_count": 62,
     "metadata": {},
     "output_type": "execute_result"
    },
    {
     "data": {
      "text/plain": [
       "[('node1', 'to', 'node3'), ('node1', 'to', 'node2'), ('node3', 'to', 'node2')]"
      ]
     },
     "execution_count": 62,
     "metadata": {},
     "output_type": "execute_result"
    },
    {
     "data": {
      "text/plain": [
       "['node4', 'node5', 'node6']"
      ]
     },
     "execution_count": 62,
     "metadata": {},
     "output_type": "execute_result"
    },
    {
     "data": {
      "text/plain": [
       "[('node4', 'to', 'node6'), ('node4', 'to', 'node5'), ('node6', 'to', 'node5')]"
      ]
     },
     "execution_count": 62,
     "metadata": {},
     "output_type": "execute_result"
    }
   ],
   "source": [
    "g1.node_types\n",
    "g1.edge_types\n",
    "g2.node_types\n",
    "g2.edge_types"
   ]
  },
  {
   "cell_type": "markdown",
   "id": "4046304a",
   "metadata": {},
   "source": [
    "## Graph editing"
   ]
  },
  {
   "cell_type": "code",
   "execution_count": 22,
   "id": "ea7ee8fc",
   "metadata": {},
   "outputs": [
    {
     "ename": "NameError",
     "evalue": "name 'g3' is not defined",
     "output_type": "error",
     "traceback": [
      "\u001b[0;31m---------------------------------------------------------------------------\u001b[0m",
      "\u001b[0;31mNameError\u001b[0m                                 Traceback (most recent call last)",
      "\u001b[0;32m/var/folders/xf/dbdj1k317kb6_4pjcgr8j7tr0000gq/T/ipykernel_43743/610567310.py\u001b[0m in \u001b[0;36m<module>\u001b[0;34m\u001b[0m\n\u001b[0;32m----> 1\u001b[0;31m \u001b[0;32mdel\u001b[0m \u001b[0mg3\u001b[0m\u001b[0;34m\u001b[0m\u001b[0;34m\u001b[0m\u001b[0m\n\u001b[0m",
      "\u001b[0;31mNameError\u001b[0m: name 'g3' is not defined"
     ]
    }
   ],
   "source": [
    "del g3"
   ]
  },
  {
   "cell_type": "code",
   "execution_count": 23,
   "id": "a8bec095",
   "metadata": {},
   "outputs": [
    {
     "data": {
      "text/plain": [
       "HeteroData()"
      ]
     },
     "execution_count": 23,
     "metadata": {},
     "output_type": "execute_result"
    }
   ],
   "source": [
    "g3 = HeteroData()\n",
    "g3"
   ]
  },
  {
   "cell_type": "code",
   "execution_count": 24,
   "id": "d7430b80",
   "metadata": {},
   "outputs": [],
   "source": [
    "# Adding nodes from existing graphdata to another\n",
    "g3[\"node1\"].x =g1[\"node1\"].x\n",
    "g3[\"node1\"].num_nodes = g3[\"node1\"].x.shape[0]"
   ]
  },
  {
   "cell_type": "code",
   "execution_count": 25,
   "id": "365c1831",
   "metadata": {},
   "outputs": [],
   "source": [
    "# Concatenating vertically to add more node embeddings \n",
    "# this will be helpful for generated embeddings\n",
    "g3[\"node2\"].x = torch.cat((g1[\"node2\"].x,g2[\"node5\"].x))\n",
    "g3[\"node2\"].num_nodes = g3[\"node2\"].x.shape[0]"
   ]
  },
  {
   "cell_type": "code",
   "execution_count": 26,
   "id": "8d5a3121",
   "metadata": {},
   "outputs": [
    {
     "data": {
      "text/plain": [
       "tensor([6., 5., 7., 7., 5., 9., 5., 6., 5., 7., 5., 9., 8., 5., 9.])"
      ]
     },
     "execution_count": 26,
     "metadata": {},
     "output_type": "execute_result"
    }
   ],
   "source": [
    "# Since we stacked vertically and added the new nodes, indices should change if we use same edge connections\n",
    "offset_idx = g1[\"node2\"].num_nodes\n",
    "g2['node6', 'to', 'node5'].edge_index[1]+offset_idx"
   ]
  },
  {
   "cell_type": "code",
   "execution_count": 27,
   "id": "c8b728ae",
   "metadata": {},
   "outputs": [],
   "source": [
    "# concatenate/stack horizontally for additional features\n",
    "g3[\"node3\"].x = torch.hstack((g1[\"node3\"].x,g2[\"node6\"].x))\n",
    "g3[\"node3\"].num_nodes = g3[\"node3\"].x.shape[0]"
   ]
  },
  {
   "cell_type": "code",
   "execution_count": 28,
   "id": "1493c0d0",
   "metadata": {},
   "outputs": [
    {
     "data": {
      "text/plain": [
       "['node1', 'node2', 'node3']"
      ]
     },
     "execution_count": 28,
     "metadata": {},
     "output_type": "execute_result"
    }
   ],
   "source": [
    "g3.node_types"
   ]
  },
  {
   "cell_type": "markdown",
   "id": "389eacf6",
   "metadata": {},
   "source": [
    "### Edges"
   ]
  },
  {
   "cell_type": "code",
   "execution_count": 29,
   "id": "a8464b0d",
   "metadata": {},
   "outputs": [],
   "source": [
    "# Copied edge connection as is\n",
    "g3['node1', 'to', 'node3'].edge_index = g1['node1', 'to', 'node3'].edge_index\n",
    "g3['node1', 'to', 'node3'].edge_attr = g1['node1', 'to', 'node3'].edge_attr\n",
    "\n",
    "\n",
    "\n",
    "#automatically only havbe edges with the first have of g3 node2, and no change in index\n",
    "g3['node1', 'to', 'node2'].edge_index = g1['node1', 'to', 'node2'].edge_index\n",
    "g3['node1', 'to', 'node2'].edge_attr = g1['node1', 'to', 'node2'].edge_attr\n",
    "\n",
    "\n",
    "\n",
    "# Hstack edges indices and attributes for new nodes with offset in index of destination. \n",
    "# concat for num_edges\n",
    "offset_idx = g1[\"node2\"].num_nodes\n",
    "new_edge = g2['node6', 'to', 'node5'].edge_index\n",
    "new_edge[1] = g2['node6', 'to', 'node5'].edge_index[1]+offset_idx\n",
    "\n",
    "g3['node3', 'to', 'node2'].edge_index = torch.hstack((g1['node3', 'to', 'node2'].edge_index,new_edge))\n",
    "g3['node3', 'to', 'node2'].edge_attr = torch.cat((g1['node3', 'to', 'node2'].edge_attr,\n",
    "                                           g2['node6', 'to', 'node5'].edge_attr))\n",
    "\n"
   ]
  },
  {
   "cell_type": "code",
   "execution_count": 30,
   "id": "38fec241",
   "metadata": {},
   "outputs": [],
   "source": [
    "g3[\"node1\", \"to\", \"node3\"].edge_label = torch.rand((15,1))\n",
    "g3[\"node1\", \"to\", \"node2\"].edge_label = torch.rand((15,1))"
   ]
  },
  {
   "cell_type": "code",
   "execution_count": 31,
   "id": "7820df21",
   "metadata": {},
   "outputs": [],
   "source": [
    "g3, slices,_ = collate(g3.__class__,data_list = [g3],\n",
    "                      increment=True,\n",
    "                      add_batch=True,)"
   ]
  },
  {
   "cell_type": "code",
   "execution_count": 32,
   "id": "dc43d17f",
   "metadata": {},
   "outputs": [
    {
     "data": {
      "text/plain": [
       "HeteroData(\n",
       "  \u001b[1mnode1\u001b[0m={\n",
       "    x=[5, 6],\n",
       "    num_nodes=5,\n",
       "    batch=[5],\n",
       "    ptr=[2]\n",
       "  },\n",
       "  \u001b[1mnode2\u001b[0m={\n",
       "    x=[10, 6],\n",
       "    num_nodes=10,\n",
       "    batch=[10],\n",
       "    ptr=[2]\n",
       "  },\n",
       "  \u001b[1mnode3\u001b[0m={\n",
       "    x=[5, 12],\n",
       "    num_nodes=5,\n",
       "    batch=[5],\n",
       "    ptr=[2]\n",
       "  },\n",
       "  \u001b[1m(node1, to, node3)\u001b[0m={\n",
       "    edge_index=[2, 15],\n",
       "    edge_attr=[15, 6],\n",
       "    edge_label=[15, 1]\n",
       "  },\n",
       "  \u001b[1m(node1, to, node2)\u001b[0m={\n",
       "    edge_index=[2, 15],\n",
       "    edge_attr=[15, 3],\n",
       "    edge_label=[15, 1]\n",
       "  },\n",
       "  \u001b[1m(node3, to, node2)\u001b[0m={\n",
       "    edge_index=[2, 30],\n",
       "    edge_attr=[30, 5]\n",
       "  }\n",
       ")"
      ]
     },
     "execution_count": 32,
     "metadata": {},
     "output_type": "execute_result"
    }
   ],
   "source": [
    "g3"
   ]
  },
  {
   "cell_type": "code",
   "execution_count": 33,
   "id": "b17b2dcb",
   "metadata": {},
   "outputs": [
    {
     "data": {
      "text/plain": [
       "['node1', 'node2', 'node3']"
      ]
     },
     "execution_count": 33,
     "metadata": {},
     "output_type": "execute_result"
    },
    {
     "data": {
      "text/plain": [
       "[('node1', 'to', 'node3'), ('node1', 'to', 'node2'), ('node3', 'to', 'node2')]"
      ]
     },
     "execution_count": 33,
     "metadata": {},
     "output_type": "execute_result"
    }
   ],
   "source": [
    "g3.node_types\n",
    "g3.edge_types"
   ]
  },
  {
   "cell_type": "code",
   "execution_count": 84,
   "id": "ee117164",
   "metadata": {},
   "outputs": [
    {
     "data": {
      "text/plain": [
       "tensor([[   895,   1591,   1629,  ..., 753953, 754093, 754221],\n",
       "        [101051,  72143,   1971,  ..., 141052, 230802,   2574]])"
      ]
     },
     "execution_count": 84,
     "metadata": {},
     "output_type": "execute_result"
    }
   ],
   "source": [
    "data_1[(\"customer\",\"orders\",\"product\")].edge_index"
   ]
  },
  {
   "cell_type": "markdown",
   "id": "8e8187ff",
   "metadata": {},
   "source": [
    "## Graph manipulation "
   ]
  },
  {
   "cell_type": "code",
   "execution_count": null,
   "id": "46e3c3a3",
   "metadata": {},
   "outputs": [],
   "source": [
    "# Access specific nodes\n",
    "# Can be helpful to sample some indices \n",
    "# generate new set of customers for the day. choose size to be how many to sample\n",
    "node_ids = np.random.randint(g3[\"node1\"].num_nodes,size=7)\n",
    "g3[\"node1\"].x[node_ids,:]"
   ]
  },
  {
   "cell_type": "code",
   "execution_count": null,
   "id": "1ca6de70",
   "metadata": {},
   "outputs": [],
   "source": [
    "# Access specific edges\n",
    "# For instance , only sample edge some edge indices out of everything\n",
    "# Or split edges into batches of consecutive\n",
    "\n"
   ]
  },
  {
   "cell_type": "code",
   "execution_count": null,
   "id": "c67f1662",
   "metadata": {},
   "outputs": [],
   "source": [
    "# Boolean mask for active and inactive \n"
   ]
  },
  {
   "cell_type": "code",
   "execution_count": null,
   "id": "28979014",
   "metadata": {},
   "outputs": [],
   "source": [
    "# Adding more features or attributes to nodes and edges"
   ]
  },
  {
   "cell_type": "code",
   "execution_count": null,
   "id": "45488870",
   "metadata": {},
   "outputs": [],
   "source": [
    "# Removing columns and adding labels\n",
    "\n",
    "g3[\"node1\"].x[:, :2]\n",
    "g3[\"node1\"].x[:,[0,1,4]]"
   ]
  },
  {
   "cell_type": "code",
   "execution_count": null,
   "id": "039647c8",
   "metadata": {},
   "outputs": [],
   "source": [
    "# Drop columns and transform"
   ]
  },
  {
   "cell_type": "code",
   "execution_count": null,
   "id": "7d6cec0f",
   "metadata": {},
   "outputs": [],
   "source": [
    "# Creating new edge combinations between 2 nodes "
   ]
  },
  {
   "cell_type": "code",
   "execution_count": null,
   "id": "be91f868",
   "metadata": {},
   "outputs": [],
   "source": [
    "# modifying specific columns as features"
   ]
  },
  {
   "cell_type": "code",
   "execution_count": null,
   "id": "ac9b52be",
   "metadata": {},
   "outputs": [],
   "source": [
    "# Splitting into multiple columns "
   ]
  },
  {
   "cell_type": "code",
   "execution_count": null,
   "id": "fc265e00",
   "metadata": {},
   "outputs": [],
   "source": [
    "# from torch_geometric.loader import DataLoader\n",
    "# loader = DataLoader(g1, batch_size=2, shuffle=True)\n",
    "# for batch in loader:\n",
    "#     batch"
   ]
  },
  {
   "cell_type": "code",
   "execution_count": 52,
   "id": "e24c3658",
   "metadata": {},
   "outputs": [
    {
     "data": {
      "text/plain": [
       "{('node1', 'to', 'node3'): [2],\n",
       " ('node1', 'to', 'node2'): [2],\n",
       " ('node3', 'to', 'node2'): [-1]}"
      ]
     },
     "execution_count": 52,
     "metadata": {},
     "output_type": "execute_result"
    }
   ],
   "source": [
    "neighbors = {x:[2] for x in g1.edge_types}\n",
    "neighbors[('node3', 'to', 'node2')] = [-1]\n",
    "neighbors"
   ]
  },
  {
   "cell_type": "code",
   "execution_count": 64,
   "id": "2dc8cba1",
   "metadata": {},
   "outputs": [
    {
     "data": {
      "text/plain": [
       "HeteroData(\n",
       "  \u001b[1mnode1\u001b[0m={\n",
       "    x=[5, 6],\n",
       "    num_nodes=5\n",
       "  },\n",
       "  \u001b[1mnode2\u001b[0m={\n",
       "    x=[5, 6],\n",
       "    num_nodes=5\n",
       "  },\n",
       "  \u001b[1mnode3\u001b[0m={\n",
       "    x=[5, 6],\n",
       "    num_nodes=5\n",
       "  },\n",
       "  \u001b[1m(node1, to, node3)\u001b[0m={\n",
       "    edge_index=[2, 15],\n",
       "    edge_attr=[15, 6]\n",
       "  },\n",
       "  \u001b[1m(node1, to, node2)\u001b[0m={\n",
       "    edge_index=[2, 15],\n",
       "    edge_attr=[15, 3],\n",
       "    edge_label=[15, 1]\n",
       "  },\n",
       "  \u001b[1m(node3, to, node2)\u001b[0m={\n",
       "    edge_index=[2, 15],\n",
       "    edge_attr=[15, 5]\n",
       "  }\n",
       ")"
      ]
     },
     "execution_count": 64,
     "metadata": {},
     "output_type": "execute_result"
    }
   ],
   "source": [
    "g1"
   ]
  },
  {
   "cell_type": "code",
   "execution_count": 89,
   "id": "7ec04388",
   "metadata": {},
   "outputs": [
    {
     "ename": "TypeError",
     "evalue": "_to_canonical() argument after * must be an iterable, not NoneType",
     "output_type": "error",
     "traceback": [
      "\u001b[0;31m---------------------------------------------------------------------------\u001b[0m",
      "\u001b[0;31mTypeError\u001b[0m                                 Traceback (most recent call last)",
      "\u001b[0;32m/var/folders/xf/dbdj1k317kb6_4pjcgr8j7tr0000gq/T/ipykernel_43743/2539542186.py\u001b[0m in \u001b[0;36m<module>\u001b[0;34m\u001b[0m\n\u001b[1;32m      7\u001b[0m     \u001b[0;31m# Use a batch size of 128 for sampling training nodes\u001b[0m\u001b[0;34m\u001b[0m\u001b[0;34m\u001b[0m\u001b[0;34m\u001b[0m\u001b[0m\n\u001b[1;32m      8\u001b[0m     \u001b[0mbatch_size\u001b[0m\u001b[0;34m=\u001b[0m\u001b[0;36m128\u001b[0m\u001b[0;34m,\u001b[0m\u001b[0;34m\u001b[0m\u001b[0;34m\u001b[0m\u001b[0m\n\u001b[0;32m----> 9\u001b[0;31m     \u001b[0medge_label_index\u001b[0m\u001b[0;34m=\u001b[0m\u001b[0;34m(\u001b[0m\u001b[0;32mNone\u001b[0m\u001b[0;34m,\u001b[0m\u001b[0;32mNone\u001b[0m\u001b[0;34m)\u001b[0m\u001b[0;34m,\u001b[0m\u001b[0;34m\u001b[0m\u001b[0;34m\u001b[0m\u001b[0m\n\u001b[0m\u001b[1;32m     10\u001b[0m )\n\u001b[1;32m     11\u001b[0m \u001b[0;34m\u001b[0m\u001b[0m\n",
      "\u001b[0;32m~/.conda/envs/mobius-data-science/lib/python3.7/site-packages/torch_geometric/loader/link_neighbor_loader.py\u001b[0m in \u001b[0;36m__init__\u001b[0;34m(self, data, num_neighbors, edge_label_index, edge_label, replace, directed, neg_sampling_ratio, transform, is_sorted, neighbor_sampler, **kwargs)\u001b[0m\n\u001b[1;32m    261\u001b[0m \u001b[0;34m\u001b[0m\u001b[0m\n\u001b[1;32m    262\u001b[0m         edge_type, edge_label_index = get_edge_label_index(\n\u001b[0;32m--> 263\u001b[0;31m             data, edge_label_index)\n\u001b[0m\u001b[1;32m    264\u001b[0m \u001b[0;34m\u001b[0m\u001b[0m\n\u001b[1;32m    265\u001b[0m         \u001b[0;32mif\u001b[0m \u001b[0mneighbor_sampler\u001b[0m \u001b[0;32mis\u001b[0m \u001b[0;32mNone\u001b[0m\u001b[0;34m:\u001b[0m\u001b[0;34m\u001b[0m\u001b[0;34m\u001b[0m\u001b[0m\n",
      "\u001b[0;32m~/.conda/envs/mobius-data-science/lib/python3.7/site-packages/torch_geometric/loader/link_neighbor_loader.py\u001b[0m in \u001b[0;36mget_edge_label_index\u001b[0;34m(data, edge_label_index)\u001b[0m\n\u001b[1;32m    348\u001b[0m \u001b[0;34m\u001b[0m\u001b[0m\n\u001b[1;32m    349\u001b[0m     \u001b[0medge_type\u001b[0m\u001b[0;34m,\u001b[0m \u001b[0medge_label_index\u001b[0m \u001b[0;34m=\u001b[0m \u001b[0medge_label_index\u001b[0m\u001b[0;34m\u001b[0m\u001b[0;34m\u001b[0m\u001b[0m\n\u001b[0;32m--> 350\u001b[0;31m     \u001b[0medge_type\u001b[0m \u001b[0;34m=\u001b[0m \u001b[0mdata\u001b[0m\u001b[0;34m.\u001b[0m\u001b[0m_to_canonical\u001b[0m\u001b[0;34m(\u001b[0m\u001b[0;34m*\u001b[0m\u001b[0medge_type\u001b[0m\u001b[0;34m)\u001b[0m\u001b[0;34m\u001b[0m\u001b[0;34m\u001b[0m\u001b[0m\n\u001b[0m\u001b[1;32m    351\u001b[0m     \u001b[0;32massert\u001b[0m \u001b[0medge_type\u001b[0m \u001b[0;32min\u001b[0m \u001b[0mdata\u001b[0m\u001b[0;34m.\u001b[0m\u001b[0medge_types\u001b[0m\u001b[0;34m\u001b[0m\u001b[0;34m\u001b[0m\u001b[0m\n\u001b[1;32m    352\u001b[0m \u001b[0;34m\u001b[0m\u001b[0m\n",
      "\u001b[0;31mTypeError\u001b[0m: _to_canonical() argument after * must be an iterable, not NoneType"
     ]
    }
   ],
   "source": [
    "from torch_geometric.loader import LinkNeighborLoader\n",
    "\n",
    "loader = LinkNeighborLoader(\n",
    "    g1,\n",
    "    # Sample 30 neighbors for each node for 2 iterations\n",
    "    num_neighbors=neighbors,\n",
    "    # Use a batch size of 128 for sampling training nodes\n",
    "    batch_size=128,\n",
    "    edge_label_index=,\n",
    ")\n",
    "\n",
    "sampled_data = next(iter(loader))\n",
    "print(sampled_data)"
   ]
  },
  {
   "cell_type": "code",
   "execution_count": 82,
   "id": "6ee74f40",
   "metadata": {},
   "outputs": [
    {
     "data": {
      "text/plain": [
       "{('customer',\n",
       "  'orders',\n",
       "  'product'): tensor([[   895,   1591,   1629,  ..., 753953, 754093, 754221],\n",
       "         [101051,  72143,   1971,  ..., 141052, 230802,   2574]]),\n",
       " ('shipnode',\n",
       "  'delivers',\n",
       "  'customer'): tensor([[  9295,   9244,   9295,  ...,   9649,    245,   9295],\n",
       "         [   895,   1591,   1629,  ..., 753953, 754093, 754221]])}"
      ]
     },
     "execution_count": 82,
     "metadata": {},
     "output_type": "execute_result"
    }
   ],
   "source": [
    "data_1.edge_index_dict"
   ]
  },
  {
   "cell_type": "markdown",
   "id": "aa45feeb",
   "metadata": {},
   "source": [
    "## Graph Transform"
   ]
  },
  {
   "cell_type": "code",
   "execution_count": null,
   "id": "bec512fa",
   "metadata": {},
   "outputs": [],
   "source": []
  },
  {
   "cell_type": "code",
   "execution_count": null,
   "id": "75b78654",
   "metadata": {},
   "outputs": [],
   "source": [
    "from abc import ABC\n",
    "from typing import Any\n",
    "\n",
    "\n",
    "class BaseTransform(ABC):\n",
    "    r\"\"\"An abstract base class for writing transforms.\n",
    "\n",
    "    Transforms are a general way to modify and customize\n",
    "    :class:`~torch_geometric.data.Data` objects, either by implicitly passing\n",
    "    them as an argument to a :class:`~torch_geometric.data.Dataset`, or by\n",
    "    applying them explicitly to individual :class:`~torch_geometric.data.Data`\n",
    "    objects.\n",
    "\n",
    "    .. code-block:: python\n",
    "\n",
    "        import torch_geometric.transforms as T\n",
    "        from torch_geometric.datasets import TUDataset\n",
    "\n",
    "        transform = T.Compose([T.ToUndirected(), T.AddSelfLoops()])\n",
    "\n",
    "        dataset = TUDataset(path, name='MUTAG', transform=transform)\n",
    "        data = dataset[0]  # Implicitly transform data on every access.\n",
    "\n",
    "        data = TUDataset(path, name='MUTAG')[0]\n",
    "        data = transform(data)  # Explicitly transform data.\n",
    "    \"\"\"\n",
    "    def __call__(self, data: Any) -> Any:\n",
    "        raise NotImplementedError\n",
    "\n",
    "    def __repr__(self) -> str:\n",
    "        return f'{self.__class__.__name__}()'"
   ]
  },
  {
   "cell_type": "markdown",
   "id": "c7904b75",
   "metadata": {},
   "source": [
    "## Graph Visualization"
   ]
  },
  {
   "cell_type": "code",
   "execution_count": null,
   "id": "c1bc5221",
   "metadata": {},
   "outputs": [],
   "source": [
    "import networkx as nx\n",
    "from torch_geometric.utils.convert import to_networkx, from_networkx\n",
    "# Make the networkx graph\n",
    "ndata = to_networkx(g3.to_homogeneous())\n",
    "nx.draw(ndata)"
   ]
  },
  {
   "cell_type": "code",
   "execution_count": null,
   "id": "0f833f6a",
   "metadata": {},
   "outputs": [],
   "source": [
    "g2._global_store.to_dict()"
   ]
  },
  {
   "cell_type": "code",
   "execution_count": null,
   "id": "dcb0df6d",
   "metadata": {},
   "outputs": [],
   "source": [
    "g3._global_store.to_dict()"
   ]
  },
  {
   "cell_type": "markdown",
   "id": "804defb8",
   "metadata": {},
   "source": [
    "## Data transforms"
   ]
  },
  {
   "cell_type": "code",
   "execution_count": null,
   "id": "7ccc42d0",
   "metadata": {},
   "outputs": [],
   "source": [
    "import torch_geometric.transforms as T"
   ]
  },
  {
   "cell_type": "code",
   "execution_count": null,
   "id": "248e2184",
   "metadata": {},
   "outputs": [],
   "source": [
    "transform = T.Compose([\n",
    "#     T.ToUndirected(), \n",
    "#     T.AddSelfLoops(),\n",
    "#     T.NormalizeFeatures(),\n",
    "    T.GCNNorm()\n",
    "])"
   ]
  },
  {
   "cell_type": "code",
   "execution_count": null,
   "id": "40cc0740",
   "metadata": {},
   "outputs": [],
   "source": [
    "data[\"node1\"].x"
   ]
  },
  {
   "cell_type": "code",
   "execution_count": null,
   "id": "d8162781",
   "metadata": {},
   "outputs": [],
   "source": [
    "data[('node1', 'to', 'node3')].edge_attr"
   ]
  },
  {
   "cell_type": "code",
   "execution_count": null,
   "id": "e3a4b90a",
   "metadata": {},
   "outputs": [],
   "source": [
    "data_norm = transform(data)"
   ]
  },
  {
   "cell_type": "code",
   "execution_count": null,
   "id": "a6041c8d",
   "metadata": {},
   "outputs": [],
   "source": [
    "data_norm"
   ]
  },
  {
   "cell_type": "code",
   "execution_count": null,
   "id": "896d3881",
   "metadata": {},
   "outputs": [],
   "source": [
    "data_new"
   ]
  },
  {
   "cell_type": "code",
   "execution_count": null,
   "id": "67bbb38e",
   "metadata": {},
   "outputs": [],
   "source": []
  }
 ],
 "metadata": {
  "kernelspec": {
   "display_name": "mobius-ds",
   "language": "python",
   "name": "mobius-data-science"
  },
  "language_info": {
   "codemirror_mode": {
    "name": "ipython",
    "version": 3
   },
   "file_extension": ".py",
   "mimetype": "text/x-python",
   "name": "python",
   "nbconvert_exporter": "python",
   "pygments_lexer": "ipython3",
   "version": "3.7.11"
  }
 },
 "nbformat": 4,
 "nbformat_minor": 5
}

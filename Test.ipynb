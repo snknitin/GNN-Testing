{
 "cells": [
  {
   "cell_type": "code",
   "execution_count": 149,
   "id": "fefcb893",
   "metadata": {},
   "outputs": [],
   "source": [
    "import os\n",
    "import os.path as osp\n",
    "import pandas as pd\n",
    "import numpy as np\n",
    "import torch"
   ]
  },
  {
   "cell_type": "code",
   "execution_count": 7,
   "id": "ba752a00",
   "metadata": {},
   "outputs": [],
   "source": [
    "def get_edges(x,y):\n",
    "    src = np.random.randint(0,x,3500)\n",
    "    dest = np.random.randint(0,y, 3500)\n",
    "    return [src,dest]"
   ]
  },
  {
   "cell_type": "code",
   "execution_count": 151,
   "id": "5874be7a",
   "metadata": {},
   "outputs": [],
   "source": [
    "from data import DailyData ,YearlyData"
   ]
  },
  {
   "cell_type": "code",
   "execution_count": 201,
   "id": "95b9b624",
   "metadata": {},
   "outputs": [],
   "source": [
    "data_list = []\n",
    "g1 = HeteroData()\n",
    "g1[\"node1\"].x = torch.tensor(np.round(np.random.rand(1250, 6) * 10), dtype=torch.float)\n",
    "g1[\"node2\"].x = torch.tensor(np.round(np.random.rand(2000, 6) * 20), dtype=torch.float)\n",
    "g1[\"node3\"].x = torch.tensor(np.round(np.random.rand(100, 6) * 10), dtype=torch.float)\n",
    "\n",
    "g1['node2', 'to', 'node1'].edge_index = torch.tensor(get_edges(2000, 1250), dtype=torch.float)\n",
    "g1['node3', 'to', 'node2'].edge_index = torch.tensor(get_edges(100, 2000), dtype=torch.float)\n",
    "\n",
    "g1['node2', 'to', 'node1'].edge_attr = torch.tensor(np.round(np.random.rand(3500, 6) * 10), dtype=torch.float)\n",
    "g1['node3', 'to', 'node2'].edge_attr = torch.tensor(np.round(np.random.rand(3500, 5) * 10), dtype=torch.float)\n",
    "\n",
    "g1[\"node2\", \"to\", \"node1\"].edge_label = torch.rand((3500, 1))\n",
    "g1[\"node3\", \"to\", \"node2\"].edge_label = torch.rand((3500, 1))\n",
    "\n",
    "node_types, edge_types = g1.metadata()\n",
    "for node_type in node_types:\n",
    "    g1[node_type].num_nodes = g1[node_type].x.size(0)\n",
    "\n",
    "data_list.append(g1)"
   ]
  },
  {
   "cell_type": "code",
   "execution_count": 204,
   "id": "c206600d",
   "metadata": {},
   "outputs": [
    {
     "data": {
      "text/plain": [
       "HeteroData(\n",
       "  \u001b[1mnode1\u001b[0m={\n",
       "    x=[1250, 6],\n",
       "    num_nodes=1250,\n",
       "    batch=[1250],\n",
       "    ptr=[2]\n",
       "  },\n",
       "  \u001b[1mnode2\u001b[0m={\n",
       "    x=[2000, 6],\n",
       "    num_nodes=2000,\n",
       "    batch=[2000],\n",
       "    ptr=[2]\n",
       "  },\n",
       "  \u001b[1mnode3\u001b[0m={\n",
       "    x=[100, 6],\n",
       "    num_nodes=100,\n",
       "    batch=[100],\n",
       "    ptr=[2]\n",
       "  },\n",
       "  \u001b[1m(node2, to, node1)\u001b[0m={\n",
       "    edge_index=[2, 350],\n",
       "    edge_attr=[3500, 6],\n",
       "    edge_label=[3500, 1]\n",
       "  },\n",
       "  \u001b[1m(node3, to, node2)\u001b[0m={\n",
       "    edge_index=[2, 350],\n",
       "    edge_attr=[3500, 5],\n",
       "    edge_label=[3500, 1]\n",
       "  }\n",
       ")"
      ]
     },
     "execution_count": 204,
     "metadata": {},
     "output_type": "execute_result"
    }
   ],
   "source": [
    "g1, slices,_ = collate(g1.__class__,data_list = data_list,\n",
    "                      increment=True,\n",
    "                      add_batch=True,)\n",
    "g1"
   ]
  },
  {
   "cell_type": "code",
   "execution_count": 206,
   "id": "1d753d1d",
   "metadata": {},
   "outputs": [
    {
     "data": {
      "text/plain": [
       "tensor([0, 0, 0, 0, 0, 0, 0, 0, 0, 0, 0, 0, 0, 0, 0, 0, 0, 0, 0, 0, 0, 0, 0, 0,\n",
       "        0, 0, 0, 0, 0, 0, 0, 0, 0, 0, 0, 0, 0, 0, 0, 0, 0, 0, 0, 0, 0, 0, 0, 0,\n",
       "        0, 0, 0, 0, 0, 0, 0, 0, 0, 0, 0, 0, 0, 0, 0, 0, 0, 0, 0, 0, 0, 0, 0, 0,\n",
       "        0, 0, 0, 0, 0, 0, 0, 0, 0, 0, 0, 0, 0, 0, 0, 0, 0, 0, 0, 0, 0, 0, 0, 0,\n",
       "        0, 0, 0, 0])"
      ]
     },
     "execution_count": 206,
     "metadata": {},
     "output_type": "execute_result"
    }
   ],
   "source": [
    "g1[\"node3\"].batch"
   ]
  },
  {
   "cell_type": "code",
   "execution_count": 208,
   "id": "ad2b42b9",
   "metadata": {},
   "outputs": [
    {
     "data": {
      "text/plain": [
       "tensor([0, 0, 0, 0, 0, 0, 0, 0, 0, 0, 1, 1, 1, 1, 1, 1, 1, 1, 1, 1, 2, 2, 2, 2,\n",
       "        2, 2, 2, 2, 2, 2, 3, 3, 3, 3, 3, 3, 3, 3, 3, 3])"
      ]
     },
     "execution_count": 208,
     "metadata": {},
     "output_type": "execute_result"
    }
   ],
   "source": [
    "from torch_geometric.loader import DataLoader\n",
    "loader = DataLoader(dailydata, batch_size=4)\n",
    "sampled_hetero_data = next(iter(loader))\n",
    "sampled_hetero_data[\"node3\"].batch"
   ]
  },
  {
   "cell_type": "markdown",
   "id": "9a83398f",
   "metadata": {},
   "source": [
    "## Create graph structure"
   ]
  },
  {
   "cell_type": "code",
   "execution_count": 152,
   "id": "d5a97e3c",
   "metadata": {},
   "outputs": [],
   "source": [
    "# Larget data\n",
    "root1 = osp.join(os.getcwd(), \"dailyroot\")\n",
    "dailydata = DailyData(root1)"
   ]
  },
  {
   "cell_type": "code",
   "execution_count": 162,
   "id": "ddbbf24d",
   "metadata": {},
   "outputs": [
    {
     "data": {
      "text/plain": [
       "HeteroData(\n",
       "  \u001b[1mnode1\u001b[0m={\n",
       "    x=[125, 6],\n",
       "    num_nodes=125\n",
       "  },\n",
       "  \u001b[1mnode2\u001b[0m={\n",
       "    x=[200, 6],\n",
       "    num_nodes=200\n",
       "  },\n",
       "  \u001b[1mnode3\u001b[0m={\n",
       "    x=[10, 6],\n",
       "    num_nodes=10\n",
       "  },\n",
       "  \u001b[1m(node2, to, node1)\u001b[0m={\n",
       "    edge_index=[2, 350],\n",
       "    edge_attr=[350, 6],\n",
       "    edge_label=[350, 1]\n",
       "  },\n",
       "  \u001b[1m(node3, to, node2)\u001b[0m={\n",
       "    edge_index=[2, 350],\n",
       "    edge_attr=[350, 5],\n",
       "    edge_label=[350, 1]\n",
       "  }\n",
       ")"
      ]
     },
     "execution_count": 162,
     "metadata": {},
     "output_type": "execute_result"
    }
   ],
   "source": [
    "dailydata[29]"
   ]
  },
  {
   "cell_type": "code",
   "execution_count": 165,
   "id": "21eeac7a",
   "metadata": {},
   "outputs": [],
   "source": [
    "dataset = dailydata.shuffle()"
   ]
  },
  {
   "cell_type": "code",
   "execution_count": 184,
   "id": "8189083c",
   "metadata": {},
   "outputs": [],
   "source": [
    "# InMemory data\n",
    "root2 = osp.join(os.getcwd(), \"yearlyroot\")\n",
    "yearlydata = YearlyData(root2)"
   ]
  },
  {
   "cell_type": "code",
   "execution_count": 188,
   "id": "43a62c25",
   "metadata": {},
   "outputs": [
    {
     "data": {
      "text/plain": [
       "HeteroData(\n",
       "  \u001b[1mnode1\u001b[0m={\n",
       "    x=[1250, 6],\n",
       "    num_nodes=1250\n",
       "  },\n",
       "  \u001b[1mnode2\u001b[0m={\n",
       "    x=[2000, 6],\n",
       "    num_nodes=2000\n",
       "  },\n",
       "  \u001b[1mnode3\u001b[0m={\n",
       "    x=[100, 6],\n",
       "    num_nodes=100\n",
       "  },\n",
       "  \u001b[1m(node2, to, node1)\u001b[0m={\n",
       "    edge_index=[2, 3500],\n",
       "    edge_attr=[3500, 6],\n",
       "    edge_label=[3500, 1]\n",
       "  },\n",
       "  \u001b[1m(node3, to, node2)\u001b[0m={\n",
       "    edge_index=[2, 3500],\n",
       "    edge_attr=[3500, 5],\n",
       "    edge_label=[3500, 1]\n",
       "  }\n",
       ")"
      ]
     },
     "execution_count": 188,
     "metadata": {},
     "output_type": "execute_result"
    }
   ],
   "source": [
    "yearlydata[0]"
   ]
  },
  {
   "cell_type": "markdown",
   "id": "df81b622",
   "metadata": {},
   "source": [
    "## Loading - Daily"
   ]
  },
  {
   "cell_type": "code",
   "execution_count": 186,
   "id": "ce343e2d",
   "metadata": {},
   "outputs": [],
   "source": [
    "n = (len(dailydata) + 9) // 10\n",
    "train_dataset = dailydata[:2*n]\n",
    "val_dataset = dailydata[2*n:2*n+n]\n",
    "train_dataset = dailydata[2*n+n:]"
   ]
  },
  {
   "cell_type": "code",
   "execution_count": 187,
   "id": "a85dc81e",
   "metadata": {},
   "outputs": [
    {
     "data": {
      "text/plain": [
       "DailyData(21)"
      ]
     },
     "execution_count": 187,
     "metadata": {},
     "output_type": "execute_result"
    }
   ],
   "source": [
    "train_dataset"
   ]
  },
  {
   "cell_type": "code",
   "execution_count": 191,
   "id": "37f5d5ac",
   "metadata": {},
   "outputs": [],
   "source": [
    "from torch_geometric.loader import DataLoader\n",
    "loader = DataLoader(dailydata, batch_size=4)\n"
   ]
  },
  {
   "cell_type": "code",
   "execution_count": 192,
   "id": "cdbf0696",
   "metadata": {},
   "outputs": [
    {
     "data": {
      "text/plain": [
       "HeteroDataBatch(\n",
       "  \u001b[1mnode1\u001b[0m={\n",
       "    x=[500, 6],\n",
       "    num_nodes=500,\n",
       "    batch=[500],\n",
       "    ptr=[5]\n",
       "  },\n",
       "  \u001b[1mnode2\u001b[0m={\n",
       "    x=[800, 6],\n",
       "    num_nodes=800,\n",
       "    batch=[800],\n",
       "    ptr=[5]\n",
       "  },\n",
       "  \u001b[1mnode3\u001b[0m={\n",
       "    x=[40, 6],\n",
       "    num_nodes=40,\n",
       "    batch=[40],\n",
       "    ptr=[5]\n",
       "  },\n",
       "  \u001b[1m(node2, to, node1)\u001b[0m={\n",
       "    edge_index=[2, 1400],\n",
       "    edge_attr=[1400, 6],\n",
       "    edge_label=[1400, 1]\n",
       "  },\n",
       "  \u001b[1m(node3, to, node2)\u001b[0m={\n",
       "    edge_index=[2, 1400],\n",
       "    edge_attr=[1400, 5],\n",
       "    edge_label=[1400, 1]\n",
       "  }\n",
       ")"
      ]
     },
     "execution_count": 192,
     "metadata": {},
     "output_type": "execute_result"
    }
   ],
   "source": [
    "sampled_hetero_data = next(iter(loader))\n",
    "sampled_hetero_data"
   ]
  },
  {
   "cell_type": "markdown",
   "id": "b21d7e69",
   "metadata": {},
   "source": [
    "## 1 Yearly graph"
   ]
  },
  {
   "cell_type": "code",
   "execution_count": 199,
   "id": "3660baa9",
   "metadata": {},
   "outputs": [
    {
     "ename": "AssertionError",
     "evalue": "",
     "output_type": "error",
     "traceback": [
      "\u001b[1;31m---------------------------------------------------------------------------\u001b[0m",
      "\u001b[1;31mAssertionError\u001b[0m                            Traceback (most recent call last)",
      "Input \u001b[1;32mIn [199]\u001b[0m, in \u001b[0;36m<cell line: 3>\u001b[1;34m()\u001b[0m\n\u001b[0;32m      1\u001b[0m \u001b[38;5;28;01mfrom\u001b[39;00m \u001b[38;5;21;01mtorch_geometric\u001b[39;00m\u001b[38;5;21;01m.\u001b[39;00m\u001b[38;5;21;01mloader\u001b[39;00m \u001b[38;5;28;01mimport\u001b[39;00m DataLoader\n\u001b[0;32m      2\u001b[0m \u001b[38;5;28;01mfrom\u001b[39;00m \u001b[38;5;21;01mtorch_geometric\u001b[39;00m\u001b[38;5;21;01m.\u001b[39;00m\u001b[38;5;21;01mloader\u001b[39;00m \u001b[38;5;28;01mimport\u001b[39;00m LinkNeighborLoader\n\u001b[1;32m----> 3\u001b[0m loader \u001b[38;5;241m=\u001b[39m \u001b[43mLinkNeighborLoader\u001b[49m\u001b[43m(\u001b[49m\u001b[43myearlydata\u001b[49m\u001b[43m,\u001b[49m\n\u001b[0;32m      4\u001b[0m \u001b[43m                            \u001b[49m\u001b[43mnum_neighbors\u001b[49m\u001b[38;5;241;43m=\u001b[39;49m\u001b[43m \u001b[49m\u001b[43m{\u001b[49m\u001b[43mkey\u001b[49m\u001b[43m:\u001b[49m\u001b[43m \u001b[49m\u001b[43m[\u001b[49m\u001b[38;5;241;43m30\u001b[39;49m\u001b[43m]\u001b[49m\u001b[43m \u001b[49m\u001b[38;5;241;43m*\u001b[39;49m\u001b[43m \u001b[49m\u001b[38;5;241;43m2\u001b[39;49m\u001b[43m \u001b[49m\u001b[38;5;28;43;01mfor\u001b[39;49;00m\u001b[43m \u001b[49m\u001b[43mkey\u001b[49m\u001b[43m \u001b[49m\u001b[38;5;129;43;01min\u001b[39;49;00m\u001b[43m \u001b[49m\u001b[43mhetero_data\u001b[49m\u001b[38;5;241;43m.\u001b[39;49m\u001b[43medge_types\u001b[49m\u001b[43m}\u001b[49m\u001b[43m \u001b[49m\u001b[43m,\u001b[49m\n\u001b[0;32m      5\u001b[0m \u001b[43m                            \u001b[49m\u001b[43mbatch_size\u001b[49m\u001b[38;5;241;43m=\u001b[39;49m\u001b[38;5;241;43m4\u001b[39;49m\u001b[43m)\u001b[49m\n",
      "File \u001b[1;32mC:\\Anaconda3\\envs\\GNN\\lib\\site-packages\\torch_geometric\\loader\\link_neighbor_loader.py:262\u001b[0m, in \u001b[0;36mLinkNeighborLoader.__init__\u001b[1;34m(self, data, num_neighbors, edge_label_index, edge_label, replace, directed, neg_sampling_ratio, transform, is_sorted, neighbor_sampler, **kwargs)\u001b[0m\n\u001b[0;32m    259\u001b[0m \u001b[38;5;28mself\u001b[39m\u001b[38;5;241m.\u001b[39mneighbor_sampler \u001b[38;5;241m=\u001b[39m neighbor_sampler\n\u001b[0;32m    260\u001b[0m \u001b[38;5;28mself\u001b[39m\u001b[38;5;241m.\u001b[39mneg_sampling_ratio \u001b[38;5;241m=\u001b[39m neg_sampling_ratio\n\u001b[1;32m--> 262\u001b[0m edge_type, edge_label_index \u001b[38;5;241m=\u001b[39m \u001b[43mget_edge_label_index\u001b[49m\u001b[43m(\u001b[49m\n\u001b[0;32m    263\u001b[0m \u001b[43m    \u001b[49m\u001b[43mdata\u001b[49m\u001b[43m,\u001b[49m\u001b[43m \u001b[49m\u001b[43medge_label_index\u001b[49m\u001b[43m)\u001b[49m\n\u001b[0;32m    265\u001b[0m \u001b[38;5;28;01mif\u001b[39;00m neighbor_sampler \u001b[38;5;129;01mis\u001b[39;00m \u001b[38;5;28;01mNone\u001b[39;00m:\n\u001b[0;32m    266\u001b[0m     \u001b[38;5;28mself\u001b[39m\u001b[38;5;241m.\u001b[39mneighbor_sampler \u001b[38;5;241m=\u001b[39m LinkNeighborSampler(\n\u001b[0;32m    267\u001b[0m         data,\n\u001b[0;32m    268\u001b[0m         num_neighbors,\n\u001b[1;32m   (...)\u001b[0m\n\u001b[0;32m    274\u001b[0m         share_memory\u001b[38;5;241m=\u001b[39mkwargs\u001b[38;5;241m.\u001b[39mget(\u001b[38;5;124m'\u001b[39m\u001b[38;5;124mnum_workers\u001b[39m\u001b[38;5;124m'\u001b[39m, \u001b[38;5;241m0\u001b[39m) \u001b[38;5;241m>\u001b[39m \u001b[38;5;241m0\u001b[39m,\n\u001b[0;32m    275\u001b[0m     )\n",
      "File \u001b[1;32mC:\\Anaconda3\\envs\\GNN\\lib\\site-packages\\torch_geometric\\loader\\link_neighbor_loader.py:338\u001b[0m, in \u001b[0;36mget_edge_label_index\u001b[1;34m(data, edge_label_index)\u001b[0m\n\u001b[0;32m    335\u001b[0m         \u001b[38;5;28;01mreturn\u001b[39;00m \u001b[38;5;28;01mNone\u001b[39;00m, data\u001b[38;5;241m.\u001b[39medge_index\n\u001b[0;32m    336\u001b[0m     \u001b[38;5;28;01mreturn\u001b[39;00m \u001b[38;5;28;01mNone\u001b[39;00m, edge_label_index\n\u001b[1;32m--> 338\u001b[0m \u001b[38;5;28;01massert\u001b[39;00m edge_label_index \u001b[38;5;129;01mis\u001b[39;00m \u001b[38;5;129;01mnot\u001b[39;00m \u001b[38;5;28;01mNone\u001b[39;00m\n\u001b[0;32m    339\u001b[0m \u001b[38;5;28;01massert\u001b[39;00m \u001b[38;5;28misinstance\u001b[39m(edge_label_index, (\u001b[38;5;28mlist\u001b[39m, \u001b[38;5;28mtuple\u001b[39m))\n\u001b[0;32m    341\u001b[0m \u001b[38;5;28;01mif\u001b[39;00m \u001b[38;5;28misinstance\u001b[39m(edge_label_index[\u001b[38;5;241m0\u001b[39m], \u001b[38;5;28mstr\u001b[39m):\n",
      "\u001b[1;31mAssertionError\u001b[0m: "
     ]
    }
   ],
   "source": [
    "from torch_geometric.loader import DataLoader\n",
    "from torch_geometric.loader import LinkNeighborLoader\n",
    "loader = LinkNeighborLoader(yearlydata,\n",
    "                            num_neighbors= {key: [30] * 2 for key in hetero_data.edge_types} ,\n",
    "                            batch_size=4)\n"
   ]
  },
  {
   "cell_type": "code",
   "execution_count": 214,
   "id": "e9987c2a",
   "metadata": {},
   "outputs": [
    {
     "name": "stderr",
     "output_type": "stream",
     "text": [
      "Downloading https://github.com/kimiyoung/planetoid/raw/master/data/ind.cora.x\n",
      "Downloading https://github.com/kimiyoung/planetoid/raw/master/data/ind.cora.tx\n",
      "Downloading https://github.com/kimiyoung/planetoid/raw/master/data/ind.cora.allx\n",
      "Downloading https://github.com/kimiyoung/planetoid/raw/master/data/ind.cora.y\n",
      "Downloading https://github.com/kimiyoung/planetoid/raw/master/data/ind.cora.ty\n",
      "Downloading https://github.com/kimiyoung/planetoid/raw/master/data/ind.cora.ally\n",
      "Downloading https://github.com/kimiyoung/planetoid/raw/master/data/ind.cora.graph\n",
      "Downloading https://github.com/kimiyoung/planetoid/raw/master/data/ind.cora.test.index\n"
     ]
    },
    {
     "name": "stdout",
     "output_type": "stream",
     "text": [
      "Data(x=[1374, 1433], edge_index=[2, 3102], y=[1374], train_mask=[1374], val_mask=[1374], test_mask=[1374], edge_label_index=[2, 128])\n"
     ]
    },
    {
     "name": "stderr",
     "output_type": "stream",
     "text": [
      "Processing...\n",
      "Done!\n"
     ]
    }
   ],
   "source": [
    "from torch_geometric.datasets import Planetoid\n",
    "from torch_geometric.loader import NeighborLoader\n",
    "\n",
    "data = Planetoid(os.getcwd(), name='Cora')[0]\n",
    "\n",
    "loader = LinkNeighborLoader(\n",
    "    data,\n",
    "    # Sample 30 neighbors for each node for 2 iterations\n",
    "    num_neighbors=[30] * 2,\n",
    "    # Use a batch size of 128 for sampling training nodes\n",
    "    batch_size=128,\n",
    "    edge_label_index=data.edge_index,\n",
    ")\n",
    "\n",
    "sampled_data = next(iter(loader))\n",
    "print(sampled_data)"
   ]
  },
  {
   "cell_type": "code",
   "execution_count": 225,
   "id": "315f2e00",
   "metadata": {},
   "outputs": [
    {
     "data": {
      "text/plain": [
       "Data(x=[2708, 1433], edge_index=[2, 10556], y=[2708], train_mask=[2708], val_mask=[2708], test_mask=[2708])"
      ]
     },
     "execution_count": 225,
     "metadata": {},
     "output_type": "execute_result"
    }
   ],
   "source": [
    "data"
   ]
  },
  {
   "cell_type": "code",
   "execution_count": 218,
   "id": "31aa1dce",
   "metadata": {},
   "outputs": [
    {
     "data": {
      "text/plain": [
       "tensor([[   0,    0,    0,  ..., 2707, 2707, 2707],\n",
       "        [ 633, 1862, 2582,  ...,  598, 1473, 2706]])"
      ]
     },
     "execution_count": 218,
     "metadata": {},
     "output_type": "execute_result"
    }
   ],
   "source": [
    "data.edge_index"
   ]
  },
  {
   "cell_type": "code",
   "execution_count": 248,
   "id": "8c5f260d",
   "metadata": {},
   "outputs": [
    {
     "data": {
      "text/plain": [
       "[(('node2', 'to', 'node1'),\n",
       "  tensor([[ 99., 143., 156.,  ..., 619., 785., 628.],\n",
       "          [ 26.,  97., 101.,  ..., 403., 464., 491.]])),\n",
       " (('node3', 'to', 'node2'),\n",
       "  tensor([[  3.,   0.,   7.,  ...,  38.,  30.,  34.],\n",
       "          [171., 134.,  62.,  ..., 718., 755., 738.]]))]"
      ]
     },
     "execution_count": 248,
     "metadata": {},
     "output_type": "execute_result"
    }
   ],
   "source": [
    "idxs= list(sampled_hetero_data.edge_index_dict.items())\n",
    "idxs"
   ]
  },
  {
   "cell_type": "code",
   "execution_count": 249,
   "id": "d4aac242",
   "metadata": {},
   "outputs": [
    {
     "data": {
      "text/plain": [
       "[(('node2', 'to', 'node1'), ('node3', 'to', 'node2')),\n",
       " (tensor([[ 99., 143., 156.,  ..., 619., 785., 628.],\n",
       "          [ 26.,  97., 101.,  ..., 403., 464., 491.]]),\n",
       "  tensor([[  3.,   0.,   7.,  ...,  38.,  30.,  34.],\n",
       "          [171., 134.,  62.,  ..., 718., 755., 738.]]))]"
      ]
     },
     "execution_count": 249,
     "metadata": {},
     "output_type": "execute_result"
    }
   ],
   "source": [
    "list(zip(*idxs))"
   ]
  },
  {
   "cell_type": "code",
   "execution_count": 236,
   "id": "9e863d38",
   "metadata": {},
   "outputs": [
    {
     "data": {
      "text/plain": [
       "[(('node2', 'to', 'node1'),\n",
       "  tensor([[ 99., 143., 156.,  ..., 619., 785., 628.],\n",
       "          [ 26.,  97., 101.,  ..., 403., 464., 491.]])),\n",
       " (('node3', 'to', 'node2'),\n",
       "  tensor([[  3.,   0.,   7.,  ...,  38.,  30.,  34.],\n",
       "          [171., 134.,  62.,  ..., 718., 755., 738.]]))]"
      ]
     },
     "execution_count": 236,
     "metadata": {},
     "output_type": "execute_result"
    }
   ],
   "source": [
    "edge_label_index = list(sampled_hetero_data.edge_index_dict.items())\n",
    "edge_label_index"
   ]
  },
  {
   "cell_type": "code",
   "execution_count": 239,
   "id": "91629c69",
   "metadata": {},
   "outputs": [
    {
     "data": {
      "text/plain": [
       "[tensor([[ 99., 143., 156.,  ..., 619., 785., 628.],\n",
       "         [ 26.,  97., 101.,  ..., 403., 464., 491.]]),\n",
       " tensor([[  3.,   0.,   7.,  ...,  38.,  30.,  34.],\n",
       "         [171., 134.,  62.,  ..., 718., 755., 738.]])]"
      ]
     },
     "execution_count": 239,
     "metadata": {},
     "output_type": "execute_result"
    }
   ],
   "source": [
    "list(sampled_hetero_data.edge_index_dict.values())"
   ]
  },
  {
   "cell_type": "code",
   "execution_count": 231,
   "id": "cc7f329e",
   "metadata": {},
   "outputs": [
    {
     "data": {
      "text/plain": [
       "True"
      ]
     },
     "execution_count": 231,
     "metadata": {},
     "output_type": "execute_result"
    }
   ],
   "source": [
    "#edge_label_index = {\"a\",(2,100)}\n",
    "isinstance(edge_label_index, (list, tuple))"
   ]
  },
  {
   "cell_type": "code",
   "execution_count": 227,
   "id": "3b04091e",
   "metadata": {},
   "outputs": [
    {
     "data": {
      "text/plain": [
       "[('x', 1), ('y', 2), ('z', 3)]"
      ]
     },
     "execution_count": 227,
     "metadata": {},
     "output_type": "execute_result"
    }
   ],
   "source": [
    "d1 = {'x':1,'y':2,'z':3}\n",
    "l1 = list(d1.items())\n",
    "l1"
   ]
  },
  {
   "cell_type": "code",
   "execution_count": 235,
   "id": "9e5088e6",
   "metadata": {},
   "outputs": [
    {
     "data": {
      "text/plain": [
       "False"
      ]
     },
     "execution_count": 235,
     "metadata": {},
     "output_type": "execute_result"
    }
   ],
   "source": [
    "isinstance(data.edge_index, (list,tuple))"
   ]
  },
  {
   "cell_type": "code",
   "execution_count": null,
   "id": "b5343d92",
   "metadata": {},
   "outputs": [],
   "source": [
    "sampled_hetero_data = next(iter(loader))\n",
    "sampled_hetero_data"
   ]
  },
  {
   "cell_type": "markdown",
   "id": "634424d3",
   "metadata": {},
   "source": [
    "### 365 Daily graphs"
   ]
  },
  {
   "cell_type": "code",
   "execution_count": null,
   "id": "e4476577",
   "metadata": {},
   "outputs": [],
   "source": []
  },
  {
   "cell_type": "code",
   "execution_count": null,
   "id": "addab706",
   "metadata": {},
   "outputs": [],
   "source": []
  },
  {
   "cell_type": "code",
   "execution_count": null,
   "id": "91c208cf",
   "metadata": {},
   "outputs": [],
   "source": [
    "dataset = Frankenstein(root='data', pre_transform=T.GCNNorm())"
   ]
  },
  {
   "cell_type": "code",
   "execution_count": null,
   "id": "37b1036c",
   "metadata": {},
   "outputs": [],
   "source": []
  },
  {
   "cell_type": "code",
   "execution_count": 51,
   "id": "e38021a2",
   "metadata": {},
   "outputs": [],
   "source": [
    "import torch\n",
    "import torch.nn.functional as F\n",
    "from torch_geometric.datasets import TUDataset\n",
    "import torch_geometric.transforms as T\n",
    "from torch_geometric.data import DenseDataLoader\n",
    "from torch_geometric.nn import DenseGCNConv as GCNConv, dense_diff_pool"
   ]
  },
  {
   "cell_type": "code",
   "execution_count": 58,
   "id": "d1e9d397",
   "metadata": {},
   "outputs": [],
   "source": [
    "dataset = TUDataset('data', name='PROTEINS')"
   ]
  },
  {
   "cell_type": "code",
   "execution_count": 63,
   "id": "7d58ab1f",
   "metadata": {},
   "outputs": [],
   "source": [
    "dataset = dataset.shuffle()"
   ]
  },
  {
   "cell_type": "code",
   "execution_count": 65,
   "id": "8d2d9914",
   "metadata": {},
   "outputs": [],
   "source": [
    "n = (len(dataset) + 9) // 10\n",
    "test_dataset = dataset[:n]\n",
    "val_dataset = dataset[n:2 * n]\n",
    "train_dataset = dataset[2 * n:]"
   ]
  },
  {
   "cell_type": "code",
   "execution_count": 74,
   "id": "6703450b",
   "metadata": {},
   "outputs": [],
   "source": [
    "train_loader = DataLoader(train_dataset, batch_size=32)"
   ]
  },
  {
   "cell_type": "code",
   "execution_count": 75,
   "id": "42e40fcc",
   "metadata": {},
   "outputs": [
    {
     "data": {
      "text/plain": [
       "DataBatch(edge_index=[2, 3538], x=[963, 0], y=[32], batch=[963], ptr=[33])"
      ]
     },
     "execution_count": 75,
     "metadata": {},
     "output_type": "execute_result"
    }
   ],
   "source": [
    "bat= next(iter(train_loader))\n",
    "bat    "
   ]
  },
  {
   "cell_type": "code",
   "execution_count": null,
   "id": "4e310bda",
   "metadata": {},
   "outputs": [],
   "source": [
    "def train(model, optimizer, train_loader, device):\n",
    "    model.train()\n",
    "\n",
    "    for data in train_loader:\n",
    "        optimizer.zero_grad()\n",
    "        data = data.to(device)\n",
    "        out = model(data.pos, data.batch)\n",
    "        loss = F.nll_loss(out, data.y)\n",
    "        loss.backward()\n",
    "        optimizer.step()\n",
    "\n",
    "\n",
    "\n",
    "val_losses, accs, durations = [], [], []\n",
    "\n",
    "if torch.cuda.is_available():\n",
    "        torch.cuda.synchronize()\n",
    "    t_start = time.perf_counter()\n",
    "\n",
    "for epoch in range(epochs):\n",
    "    train_loss = train(model, optimizer, train_loader)\n",
    "    val_losses.append(eval_loss(model, val_loader))\n",
    "    accs.append(eval_acc(model, test_loader))\n",
    "    eval_info = {\n",
    "        'fold': fold,\n",
    "        'epoch': epoch,\n",
    "        'train_loss': train_loss,\n",
    "        'val_loss': val_losses[-1],\n",
    "        'test_acc': accs[-1],\n",
    "    }\n",
    "    \n",
    "if torch.cuda.is_available():\n",
    "    torch.cuda.synchronize()\n",
    "t_end = time.perf_counter()\n",
    "durations.append(t_end - t_start)\n",
    "\n",
    "print(f'Epoch: {epoch:03d}, Test: {test_acc:.4f}, '\n",
    "              f'Duration: {t_end - t_start:.2f}')\n",
    "\n"
   ]
  }
 ],
 "metadata": {
  "kernelspec": {
   "display_name": "GNN",
   "language": "python",
   "name": "gnn"
  },
  "language_info": {
   "codemirror_mode": {
    "name": "ipython",
    "version": 3
   },
   "file_extension": ".py",
   "mimetype": "text/x-python",
   "name": "python",
   "nbconvert_exporter": "python",
   "pygments_lexer": "ipython3",
   "version": "3.10.4"
  }
 },
 "nbformat": 4,
 "nbformat_minor": 5
}

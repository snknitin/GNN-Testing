{
 "cells": [
  {
   "cell_type": "code",
   "execution_count": 3,
   "id": "125edb78",
   "metadata": {},
   "outputs": [],
   "source": [
    "import os\n",
    "import os.path as osp\n",
    "import pandas as pd\n",
    "import numpy as np\n",
    "import torch\n",
    "\n",
    "import torch_geometric.transforms as T\n",
    "import shutil\n",
    "\n",
    "from data import DailyData ,YearlyData\n",
    "from transform import getfullstats,ScaleEdges\n"
   ]
  },
  {
   "cell_type": "code",
   "execution_count": 12,
   "id": "7663e44b",
   "metadata": {},
   "outputs": [],
   "source": [
    "from IPython.core.interactiveshell import InteractiveShell\n",
    "InteractiveShell.ast_node_interactivity = \"all\""
   ]
  },
  {
   "cell_type": "code",
   "execution_count": 5,
   "id": "da7ff3bc",
   "metadata": {},
   "outputs": [],
   "source": [
    "def get_edges(x,y):\n",
    "    src = np.random.randint(0,x,3500)\n",
    "    dest = np.random.randint(0,y, 3500)\n",
    "    return [src,dest]"
   ]
  },
  {
   "cell_type": "markdown",
   "id": "dd83ae2f",
   "metadata": {},
   "source": [
    "## Create graph structure"
   ]
  },
  {
   "cell_type": "code",
   "execution_count": 41,
   "id": "33836bcc",
   "metadata": {},
   "outputs": [
    {
     "name": "stderr",
     "output_type": "stream",
     "text": [
      "Processing...\n",
      "Done!\n"
     ]
    },
    {
     "data": {
      "text/plain": [
       "tensor([ 5., 19., 16., 10., 19., 15.])"
      ]
     },
     "execution_count": 41,
     "metadata": {},
     "output_type": "execute_result"
    },
    {
     "data": {
      "text/plain": [
       "tensor([ 4.,  2.,  8.,  3.,  7., 10.])"
      ]
     },
     "execution_count": 41,
     "metadata": {},
     "output_type": "execute_result"
    }
   ],
   "source": [
    "root = osp.join(os.getcwd(), \"dailyroot\")\n",
    "dailydata = DailyData(root)\n",
    "\n",
    "dailydata[0][(\"node2\")].x[0]\n",
    "dailydata[0][(\"node2\", \"to\", \"node1\")].edge_attr[0]\n",
    "\n",
    "edge_stats = getfullstats(dailydata)"
   ]
  },
  {
   "cell_type": "code",
   "execution_count": 42,
   "id": "2c3af032",
   "metadata": {},
   "outputs": [],
   "source": [
    "transform3 = T.Compose([ScaleEdges(stats=edge_stats), \n",
    "                        T.ToUndirected(), \n",
    "                        T.AddSelfLoops(),\n",
    "                        T.NormalizeFeatures(attrs=[\"x\", \"edge_attr\"])\n",
    "                       ])"
   ]
  },
  {
   "cell_type": "code",
   "execution_count": 46,
   "id": "b743b3a1",
   "metadata": {},
   "outputs": [
    {
     "data": {
      "text/plain": [
       "HeteroData(\n",
       "  \u001b[1mnode1\u001b[0m={\n",
       "    x=[125, 6],\n",
       "    num_nodes=125\n",
       "  },\n",
       "  \u001b[1mnode2\u001b[0m={\n",
       "    x=[200, 6],\n",
       "    num_nodes=200\n",
       "  },\n",
       "  \u001b[1mnode3\u001b[0m={\n",
       "    x=[10, 6],\n",
       "    num_nodes=10\n",
       "  },\n",
       "  \u001b[1m(node2, to, node1)\u001b[0m={\n",
       "    edge_index=[2, 350],\n",
       "    edge_attr=[350, 6],\n",
       "    edge_label=[350, 1]\n",
       "  },\n",
       "  \u001b[1m(node3, to, node2)\u001b[0m={\n",
       "    edge_index=[2, 350],\n",
       "    edge_attr=[350, 5],\n",
       "    edge_label=[350, 1]\n",
       "  }\n",
       ")"
      ]
     },
     "execution_count": 46,
     "metadata": {},
     "output_type": "execute_result"
    }
   ],
   "source": [
    "dailydata[0]"
   ]
  },
  {
   "cell_type": "code",
   "execution_count": 32,
   "id": "582c405f",
   "metadata": {},
   "outputs": [
    {
     "data": {
      "text/plain": [
       "HeteroData(\n",
       "  \u001b[1mnode1\u001b[0m={\n",
       "    x=[125, 6],\n",
       "    num_nodes=125\n",
       "  },\n",
       "  \u001b[1mnode2\u001b[0m={\n",
       "    x=[200, 6],\n",
       "    num_nodes=200\n",
       "  },\n",
       "  \u001b[1mnode3\u001b[0m={\n",
       "    x=[10, 6],\n",
       "    num_nodes=10\n",
       "  },\n",
       "  \u001b[1m(node2, to, node1)\u001b[0m={\n",
       "    edge_index=[2, 350],\n",
       "    edge_attr=[350, 6],\n",
       "    edge_label=[350, 1]\n",
       "  },\n",
       "  \u001b[1m(node3, to, node2)\u001b[0m={\n",
       "    edge_index=[2, 350],\n",
       "    edge_attr=[350, 5],\n",
       "    edge_label=[350, 1]\n",
       "  }\n",
       ")"
      ]
     },
     "execution_count": 32,
     "metadata": {},
     "output_type": "execute_result"
    }
   ],
   "source": [
    "dailydata[0]"
   ]
  },
  {
   "cell_type": "code",
   "execution_count": 40,
   "id": "55ddc21d",
   "metadata": {},
   "outputs": [],
   "source": [
    "# Remove data and clear\n",
    "del dailydata\n",
    "shutil.rmtree(os.path.join(root,'processed'))"
   ]
  },
  {
   "cell_type": "code",
   "execution_count": 34,
   "id": "69d7225c",
   "metadata": {},
   "outputs": [
    {
     "data": {
      "text/plain": [
       "defaultdict(dict,\n",
       "            {('node2',\n",
       "              'to',\n",
       "              'node1'): {'mean': tensor([[5.0456, 5.0205, 4.9991, 5.0307, 4.9823, 5.0022]]), 'std': tensor([[2.9074, 2.9172, 2.9090, 2.9441, 2.9231, 2.9069]]), 'min': tensor([0., 0., 0., 0., 0., 0.]), 'max': tensor([10., 10., 10., 10., 10., 10.])},\n",
       "             ('node3',\n",
       "              'to',\n",
       "              'node2'): {'mean': tensor([[4.9630, 4.9994, 4.9730, 5.0233, 4.9690]]), 'std': tensor([[2.9068, 2.9189, 2.9122, 2.9012, 2.9194]]), 'min': tensor([0., 0., 0., 0., 0.]), 'max': tensor([10., 10., 10., 10., 10.])}})"
      ]
     },
     "execution_count": 34,
     "metadata": {},
     "output_type": "execute_result"
    }
   ],
   "source": [
    "edge_stats"
   ]
  },
  {
   "cell_type": "code",
   "execution_count": 35,
   "id": "1da76b58",
   "metadata": {},
   "outputs": [
    {
     "name": "stderr",
     "output_type": "stream",
     "text": [
      "Processing...\n",
      "Done!\n"
     ]
    }
   ],
   "source": [
    "# Larget data\n",
    "root1 = osp.join(os.getcwd(), \"dailyroot\")\n",
    "dailydata = DailyData(root1,transform =transform3)"
   ]
  },
  {
   "cell_type": "code",
   "execution_count": 36,
   "id": "d591ed53",
   "metadata": {},
   "outputs": [
    {
     "data": {
      "text/plain": [
       "tensor([0.2319, 0.0290, 0.1449, 0.1739, 0.1449, 0.2754])"
      ]
     },
     "execution_count": 36,
     "metadata": {},
     "output_type": "execute_result"
    },
    {
     "data": {
      "text/plain": [
       "tensor([0.0641, 0.0970, 0.0015, 0.2569, 0.2906, 0.2899])"
      ]
     },
     "execution_count": 36,
     "metadata": {},
     "output_type": "execute_result"
    }
   ],
   "source": [
    "dailydata[0][(\"node2\")].x[0]\n",
    "dailydata[0][(\"node2\", \"to\", \"node1\")].edge_attr[0]\n"
   ]
  },
  {
   "cell_type": "code",
   "execution_count": 27,
   "id": "e8507013",
   "metadata": {},
   "outputs": [
    {
     "data": {
      "text/plain": [
       "HeteroData(\n",
       "  \u001b[1mnode1\u001b[0m={\n",
       "    x=[125, 6],\n",
       "    num_nodes=125\n",
       "  },\n",
       "  \u001b[1mnode2\u001b[0m={\n",
       "    x=[200, 6],\n",
       "    num_nodes=200\n",
       "  },\n",
       "  \u001b[1mnode3\u001b[0m={\n",
       "    x=[10, 6],\n",
       "    num_nodes=10\n",
       "  },\n",
       "  \u001b[1m(node2, to, node1)\u001b[0m={\n",
       "    edge_index=[2, 350],\n",
       "    edge_attr=[350, 6],\n",
       "    edge_label=[350, 1]\n",
       "  },\n",
       "  \u001b[1m(node3, to, node2)\u001b[0m={\n",
       "    edge_index=[2, 350],\n",
       "    edge_attr=[350, 5],\n",
       "    edge_label=[350, 1]\n",
       "  },\n",
       "  \u001b[1m(node1, rev_to, node2)\u001b[0m={\n",
       "    edge_index=[2, 350],\n",
       "    edge_attr=[350, 6],\n",
       "    edge_label=[350, 1]\n",
       "  },\n",
       "  \u001b[1m(node2, rev_to, node3)\u001b[0m={\n",
       "    edge_index=[2, 350],\n",
       "    edge_attr=[350, 5],\n",
       "    edge_label=[350, 1]\n",
       "  }\n",
       ")"
      ]
     },
     "execution_count": 27,
     "metadata": {},
     "output_type": "execute_result"
    }
   ],
   "source": [
    "dailydata[0]"
   ]
  },
  {
   "cell_type": "code",
   "execution_count": 38,
   "id": "b59c1289",
   "metadata": {},
   "outputs": [
    {
     "data": {
      "text/plain": [
       "tensor([0.2319, 0.0290, 0.1449, 0.1739, 0.1449, 0.2754])"
      ]
     },
     "execution_count": 38,
     "metadata": {},
     "output_type": "execute_result"
    },
    {
     "data": {
      "text/plain": [
       "tensor([0.0641, 0.0970, 0.0015, 0.2569, 0.2906, 0.2899])"
      ]
     },
     "execution_count": 38,
     "metadata": {},
     "output_type": "execute_result"
    },
    {
     "data": {
      "text/plain": [
       "tensor([0.0641, 0.0970, 0.0015, 0.2569, 0.2906, 0.2899])"
      ]
     },
     "execution_count": 38,
     "metadata": {},
     "output_type": "execute_result"
    }
   ],
   "source": [
    "dailydata[0][(\"node2\")].x[0]\n",
    "dailydata[0][(\"node2\", \"to\", \"node1\")].edge_attr[0]\n",
    "dailydata[0][(\"node1\", \"rev_to\", \"node2\")].edge_attr[0]"
   ]
  },
  {
   "cell_type": "code",
   "execution_count": 39,
   "id": "1e543d4f",
   "metadata": {},
   "outputs": [
    {
     "data": {
      "text/plain": [
       "HeteroData(\n",
       "  \u001b[1mnode1\u001b[0m={\n",
       "    x=[125, 6],\n",
       "    num_nodes=125\n",
       "  },\n",
       "  \u001b[1mnode2\u001b[0m={\n",
       "    x=[200, 6],\n",
       "    num_nodes=200\n",
       "  },\n",
       "  \u001b[1mnode3\u001b[0m={\n",
       "    x=[10, 6],\n",
       "    num_nodes=10\n",
       "  },\n",
       "  \u001b[1m(node2, to, node1)\u001b[0m={\n",
       "    edge_index=[2, 350],\n",
       "    edge_attr=[350, 6],\n",
       "    edge_label=[350, 1]\n",
       "  },\n",
       "  \u001b[1m(node3, to, node2)\u001b[0m={\n",
       "    edge_index=[2, 350],\n",
       "    edge_attr=[350, 5],\n",
       "    edge_label=[350, 1]\n",
       "  },\n",
       "  \u001b[1m(node1, rev_to, node2)\u001b[0m={\n",
       "    edge_index=[2, 350],\n",
       "    edge_attr=[350, 6],\n",
       "    edge_label=[350, 1]\n",
       "  },\n",
       "  \u001b[1m(node2, rev_to, node3)\u001b[0m={\n",
       "    edge_index=[2, 350],\n",
       "    edge_attr=[350, 5],\n",
       "    edge_label=[350, 1]\n",
       "  }\n",
       ")"
      ]
     },
     "execution_count": 39,
     "metadata": {},
     "output_type": "execute_result"
    }
   ],
   "source": [
    "ndata = dailydata[0]"
   ]
  },
  {
   "cell_type": "code",
   "execution_count": 111,
   "id": "3bdb9e2f",
   "metadata": {},
   "outputs": [],
   "source": [
    "x1 = ndata[\"node2\"].x\n",
    "x2 = ndata[\"node1\"].x\n",
    "src_edges = ndata[(\"node2\", \"to\", \"node1\")].edge_index[:,:10][0].numpy().tolist()\n",
    "dst_edges = ndata[(\"node2\", \"to\", \"node1\")].edge_index[:,:10][1].numpy().tolist()"
   ]
  },
  {
   "cell_type": "code",
   "execution_count": 112,
   "id": "9dbacf86",
   "metadata": {},
   "outputs": [
    {
     "data": {
      "text/plain": [
       "[83, 33, 162, 17, 131, 185, 150, 101, 84, 153]"
      ]
     },
     "execution_count": 112,
     "metadata": {},
     "output_type": "execute_result"
    },
    {
     "data": {
      "text/plain": [
       "[1, 57, 23, 32, 19, 49, 23, 106, 65, 69]"
      ]
     },
     "execution_count": 112,
     "metadata": {},
     "output_type": "execute_result"
    }
   ],
   "source": [
    "src_edges\n",
    "dst_edges"
   ]
  },
  {
   "cell_type": "code",
   "execution_count": 117,
   "id": "c6a8274f",
   "metadata": {},
   "outputs": [],
   "source": [
    "def get_new_ids(src,dst):\n",
    "    \"\"\"\n",
    "    Converting the fulldata index mapping into daily index\n",
    "    This will require only a subset of nodes from the full files\n",
    "    Based on that subset, the index mapping of each edge will change to suit it\n",
    "    \"\"\"\n",
    "    # Gets the list of unique idx of src and dst from the given list of the file\n",
    "    # Convert to tensort to run unique and sort, then convert to lsit for enumerate\n",
    "    src_extract = torch.tensor(src).unique().numpy().tolist()\n",
    "    dst_extract = torch.tensor(dst).unique().numpy().tolist()\n",
    "    \n",
    "    # Create a 0-n mapping for daily graph \n",
    "    new_src_ids = { k:i for i,k in enumerate(src_extract)}\n",
    "    new_dst_ids = { k:i for i,k in enumerate(dst_extract)}\n",
    "    \n",
    "    # Get updated list of idx as it would be from day graphs nodes\n",
    "    new_src = [new_src_ids[x] for x in src]\n",
    "    new_dst = [new_dst_ids[x] for x in dst]\n",
    "    \n",
    "    # Create daily graph edge index\n",
    "    edge_index = torch.tensor([new_src, new_dst])\n",
    "    \n",
    "    return edge_index, src_extract , dst_extract"
   ]
  },
  {
   "cell_type": "code",
   "execution_count": 119,
   "id": "89423935",
   "metadata": {},
   "outputs": [
    {
     "data": {
      "text/plain": [
       "tensor([[2, 1, 8, 0, 5, 9, 6, 4, 3, 7],\n",
       "        [0, 5, 2, 3, 1, 4, 2, 8, 6, 7]])"
      ]
     },
     "execution_count": 119,
     "metadata": {},
     "output_type": "execute_result"
    },
    {
     "data": {
      "text/plain": [
       "[17, 33, 83, 84, 101, 131, 150, 153, 162, 185]"
      ]
     },
     "execution_count": 119,
     "metadata": {},
     "output_type": "execute_result"
    },
    {
     "data": {
      "text/plain": [
       "[1, 19, 23, 32, 49, 57, 65, 69, 106]"
      ]
     },
     "execution_count": 119,
     "metadata": {},
     "output_type": "execute_result"
    },
    {
     "data": {
      "text/plain": [
       "tensor([[0.0244, 0.3171, 0.2195, 0.1220, 0.1463, 0.1707],\n",
       "        [0.2794, 0.1618, 0.0441, 0.2500, 0.0735, 0.1912],\n",
       "        [0.0682, 0.4091, 0.0227, 0.2045, 0.1818, 0.1136],\n",
       "        [0.2632, 0.1053, 0.0702, 0.2807, 0.2632, 0.0175],\n",
       "        [0.0294, 0.2647, 0.1029, 0.1029, 0.2794, 0.2206],\n",
       "        [0.4222, 0.0222, 0.0667, 0.0000, 0.1556, 0.3333],\n",
       "        [0.2333, 0.1000, 0.2500, 0.1167, 0.1000, 0.2000],\n",
       "        [0.3953, 0.0930, 0.0465, 0.0698, 0.3488, 0.0465],\n",
       "        [0.3509, 0.1053, 0.1754, 0.0000, 0.1579, 0.2105],\n",
       "        [0.1639, 0.2459, 0.0984, 0.1639, 0.0328, 0.2951]])"
      ]
     },
     "execution_count": 119,
     "metadata": {},
     "output_type": "execute_result"
    },
    {
     "data": {
      "text/plain": [
       "tensor([[0.1923, 0.1538, 0.0385, 0.1923, 0.3077, 0.1154],\n",
       "        [0.2162, 0.2162, 0.0270, 0.2432, 0.1892, 0.1081],\n",
       "        [0.0233, 0.2326, 0.2093, 0.1860, 0.2093, 0.1395],\n",
       "        [0.1190, 0.1905, 0.1905, 0.1429, 0.1667, 0.1905],\n",
       "        [0.0286, 0.2000, 0.0571, 0.2571, 0.2286, 0.2286],\n",
       "        [0.1905, 0.0000, 0.1905, 0.0952, 0.4762, 0.0476],\n",
       "        [0.1818, 0.2273, 0.2727, 0.0000, 0.2273, 0.0909],\n",
       "        [0.4762, 0.0000, 0.0476, 0.1429, 0.2381, 0.0952],\n",
       "        [0.0000, 0.0370, 0.3704, 0.1852, 0.2593, 0.1481]])"
      ]
     },
     "execution_count": 119,
     "metadata": {},
     "output_type": "execute_result"
    }
   ],
   "source": [
    "edge_index, src_extract , dst_extract = get_new_ids(src_edges,dst_edges)\n",
    "edge_index\n",
    "src_extract\n",
    "dst_extract\n",
    "x1[src_extract]\n",
    "x2[dst_extract]"
   ]
  },
  {
   "cell_type": "code",
   "execution_count": null,
   "id": "25011d89",
   "metadata": {},
   "outputs": [],
   "source": []
  },
  {
   "cell_type": "code",
   "execution_count": 82,
   "id": "9747c129",
   "metadata": {},
   "outputs": [
    {
     "data": {
      "text/plain": [
       "tensor([[0.0244, 0.3171, 0.2195, 0.1220, 0.1463, 0.1707],\n",
       "        [0.2794, 0.1618, 0.0441, 0.2500, 0.0735, 0.1912],\n",
       "        [0.0682, 0.4091, 0.0227, 0.2045, 0.1818, 0.1136],\n",
       "        [0.2632, 0.1053, 0.0702, 0.2807, 0.2632, 0.0175],\n",
       "        [0.0294, 0.2647, 0.1029, 0.1029, 0.2794, 0.2206],\n",
       "        [0.4222, 0.0222, 0.0667, 0.0000, 0.1556, 0.3333],\n",
       "        [0.2333, 0.1000, 0.2500, 0.1167, 0.1000, 0.2000],\n",
       "        [0.3953, 0.0930, 0.0465, 0.0698, 0.3488, 0.0465],\n",
       "        [0.3509, 0.1053, 0.1754, 0.0000, 0.1579, 0.2105],\n",
       "        [0.1639, 0.2459, 0.0984, 0.1639, 0.0328, 0.2951]])"
      ]
     },
     "execution_count": 82,
     "metadata": {},
     "output_type": "execute_result"
    }
   ],
   "source": [
    "x[extract]"
   ]
  },
  {
   "cell_type": "code",
   "execution_count": 413,
   "id": "0b839de3",
   "metadata": {},
   "outputs": [
    {
     "data": {
      "text/plain": [
       "('node2', 'to', 'node1')"
      ]
     },
     "execution_count": 413,
     "metadata": {},
     "output_type": "execute_result"
    },
    {
     "data": {
      "text/plain": [
       "tensor([[0.2400, 0.1600, 0.0400, 0.2000, 0.2800, 0.0800],\n",
       "        [0.1220, 0.1220, 0.1951, 0.0976, 0.2195, 0.2439],\n",
       "        [0.2857, 0.1429, 0.0000, 0.1429, 0.1905, 0.2381],\n",
       "        ...,\n",
       "        [0.0606, 0.2727, 0.1212, 0.0909, 0.2727, 0.1818],\n",
       "        [0.0667, 0.2667, 0.0333, 0.0333, 0.2667, 0.3333],\n",
       "        [0.3478, 0.0435, 0.3478, 0.1304, 0.0435, 0.0870]])"
      ]
     },
     "execution_count": 413,
     "metadata": {},
     "output_type": "execute_result"
    }
   ],
   "source": [
    "# with norm\n",
    "edge\n",
    "dailydata[0][edge].edge_attr"
   ]
  },
  {
   "cell_type": "code",
   "execution_count": 425,
   "id": "d97baec4",
   "metadata": {},
   "outputs": [
    {
     "data": {
      "text/plain": [
       "('node2', 'to', 'node1')"
      ]
     },
     "execution_count": 425,
     "metadata": {},
     "output_type": "execute_result"
    },
    {
     "data": {
      "text/plain": [
       "HeteroData(\n",
       "  \u001b[1mnode1\u001b[0m={\n",
       "    x=[125, 6],\n",
       "    num_nodes=125\n",
       "  },\n",
       "  \u001b[1mnode2\u001b[0m={\n",
       "    x=[200, 6],\n",
       "    num_nodes=200\n",
       "  },\n",
       "  \u001b[1mnode3\u001b[0m={\n",
       "    x=[10, 6],\n",
       "    num_nodes=10\n",
       "  },\n",
       "  \u001b[1m(node2, to, node1)\u001b[0m={\n",
       "    edge_index=[2, 350],\n",
       "    edge_attr=[350, 6],\n",
       "    edge_label=[350, 1]\n",
       "  },\n",
       "  \u001b[1m(node3, to, node2)\u001b[0m={\n",
       "    edge_index=[2, 350],\n",
       "    edge_attr=[350, 5],\n",
       "    edge_label=[350, 1]\n",
       "  }\n",
       ")"
      ]
     },
     "execution_count": 425,
     "metadata": {},
     "output_type": "execute_result"
    }
   ],
   "source": [
    "edge\n",
    "dailydata[0]"
   ]
  },
  {
   "cell_type": "code",
   "execution_count": 415,
   "id": "3187883d",
   "metadata": {},
   "outputs": [
    {
     "data": {
      "text/plain": [
       "('node2', 'to', 'node1')"
      ]
     },
     "execution_count": 415,
     "metadata": {},
     "output_type": "execute_result"
    },
    {
     "data": {
      "text/plain": [
       "tensor([[ 8.,  8.,  8.,  1.,  2.,  1.],\n",
       "        [ 6., 10.,  3.,  7.,  8.,  2.],\n",
       "        [ 7.,  5.,  2., 10.,  9.,  7.],\n",
       "        ...,\n",
       "        [ 1.,  3.,  3.,  9.,  8.,  7.],\n",
       "        [10.,  9.,  5.,  8.,  8.,  8.],\n",
       "        [ 7.,  5.,  9.,  7.,  3.,  7.]])"
      ]
     },
     "execution_count": 415,
     "metadata": {},
     "output_type": "execute_result"
    }
   ],
   "source": [
    "edge\n",
    "dailydata[0][edge].edge_attr"
   ]
  },
  {
   "cell_type": "code",
   "execution_count": 418,
   "id": "82310bde",
   "metadata": {},
   "outputs": [
    {
     "data": {
      "text/plain": [
       "defaultdict(dict,\n",
       "            {('node2',\n",
       "              'to',\n",
       "              'node1'): {'mean': tensor([[4.9704, 5.0217, 4.9824, 4.9783, 4.9735, 5.0510]]), 'std': tensor([[2.9055, 2.9068, 2.9248, 2.9173, 2.9218, 2.9098]]), 'min': tensor([0., 0., 0., 0., 0., 0.]), 'max': tensor([10., 10., 10., 10., 10., 10.])},\n",
       "             ('node3',\n",
       "              'to',\n",
       "              'node2'): {'mean': tensor([[4.9957, 4.9654, 4.9852, 4.9712, 4.9738]]), 'std': tensor([[2.9001, 2.9188, 2.9030, 2.9044, 2.9073]]), 'min': tensor([0., 0., 0., 0., 0.]), 'max': tensor([10., 10., 10., 10., 10.])}})"
      ]
     },
     "execution_count": 418,
     "metadata": {},
     "output_type": "execute_result"
    }
   ],
   "source": [
    "edge_stats"
   ]
  },
  {
   "cell_type": "code",
   "execution_count": 416,
   "id": "41a21edc",
   "metadata": {},
   "outputs": [
    {
     "data": {
      "text/plain": [
       "tensor([[ 0.3030,  0.2978,  0.3018, -0.3978, -0.2974, -0.4051],\n",
       "        [ 0.1030,  0.4978, -0.1982,  0.2022,  0.3026, -0.3051],\n",
       "        [ 0.2030, -0.0022, -0.2982,  0.5022,  0.4026,  0.1949],\n",
       "        ...,\n",
       "        [-0.3970, -0.2022, -0.1982,  0.4022,  0.3026,  0.1949],\n",
       "        [ 0.5030,  0.3978,  0.0018,  0.3022,  0.3026,  0.2949],\n",
       "        [ 0.2030, -0.0022,  0.4018,  0.2022, -0.1974,  0.1949]])"
      ]
     },
     "execution_count": 416,
     "metadata": {},
     "output_type": "execute_result"
    }
   ],
   "source": [
    "xmean = edge_stats[edge][\"mean\"]\n",
    "xstd = edge_stats[edge][\"std\"]\n",
    "xmin,xmax = edge_stats[edge][\"min\"],edge_stats[edge][\"max\"]\n",
    "x = dailydata[0][edge].edge_attr\n",
    "   \n",
    "(x-xmean)/(xmax-xmin)\n"
   ]
  },
  {
   "cell_type": "code",
   "execution_count": 255,
   "id": "3a9e6d34",
   "metadata": {},
   "outputs": [],
   "source": [
    "#dataset = dailydata.shuffle()"
   ]
  },
  {
   "cell_type": "code",
   "execution_count": 390,
   "id": "6fa837fb",
   "metadata": {},
   "outputs": [],
   "source": [
    "from torch_geometric.loader import DataLoader\n",
    "loader = DataLoader(dailydata, batch_size=4)\n",
    "data = next(iter(loader))"
   ]
  },
  {
   "cell_type": "code",
   "execution_count": 400,
   "id": "ce769292",
   "metadata": {},
   "outputs": [
    {
     "data": {
      "text/plain": [
       "{'x': tensor([[0.1765, 0.1471, 0.1471, 0.0588, 0.2353, 0.2353],\n",
       "        [0.0000, 0.0667, 0.2667, 0.3000, 0.2667, 0.1000],\n",
       "        [0.3200, 0.2400, 0.3600, 0.0000, 0.0400, 0.0400],\n",
       "        ...,\n",
       "        [0.1714, 0.2286, 0.0286, 0.2857, 0.0571, 0.2286],\n",
       "        [0.0909, 0.2121, 0.1515, 0.0606, 0.2727, 0.2121],\n",
       "        [0.3214, 0.2143, 0.0000, 0.1786, 0.2143, 0.0714]]), 'num_nodes': 500, 'batch': tensor([0, 0, 0, 0, 0, 0, 0, 0, 0, 0, 0, 0, 0, 0, 0, 0, 0, 0, 0, 0, 0, 0, 0, 0,\n",
       "        0, 0, 0, 0, 0, 0, 0, 0, 0, 0, 0, 0, 0, 0, 0, 0, 0, 0, 0, 0, 0, 0, 0, 0,\n",
       "        0, 0, 0, 0, 0, 0, 0, 0, 0, 0, 0, 0, 0, 0, 0, 0, 0, 0, 0, 0, 0, 0, 0, 0,\n",
       "        0, 0, 0, 0, 0, 0, 0, 0, 0, 0, 0, 0, 0, 0, 0, 0, 0, 0, 0, 0, 0, 0, 0, 0,\n",
       "        0, 0, 0, 0, 0, 0, 0, 0, 0, 0, 0, 0, 0, 0, 0, 0, 0, 0, 0, 0, 0, 0, 0, 0,\n",
       "        0, 0, 0, 0, 0, 1, 1, 1, 1, 1, 1, 1, 1, 1, 1, 1, 1, 1, 1, 1, 1, 1, 1, 1,\n",
       "        1, 1, 1, 1, 1, 1, 1, 1, 1, 1, 1, 1, 1, 1, 1, 1, 1, 1, 1, 1, 1, 1, 1, 1,\n",
       "        1, 1, 1, 1, 1, 1, 1, 1, 1, 1, 1, 1, 1, 1, 1, 1, 1, 1, 1, 1, 1, 1, 1, 1,\n",
       "        1, 1, 1, 1, 1, 1, 1, 1, 1, 1, 1, 1, 1, 1, 1, 1, 1, 1, 1, 1, 1, 1, 1, 1,\n",
       "        1, 1, 1, 1, 1, 1, 1, 1, 1, 1, 1, 1, 1, 1, 1, 1, 1, 1, 1, 1, 1, 1, 1, 1,\n",
       "        1, 1, 1, 1, 1, 1, 1, 1, 1, 1, 2, 2, 2, 2, 2, 2, 2, 2, 2, 2, 2, 2, 2, 2,\n",
       "        2, 2, 2, 2, 2, 2, 2, 2, 2, 2, 2, 2, 2, 2, 2, 2, 2, 2, 2, 2, 2, 2, 2, 2,\n",
       "        2, 2, 2, 2, 2, 2, 2, 2, 2, 2, 2, 2, 2, 2, 2, 2, 2, 2, 2, 2, 2, 2, 2, 2,\n",
       "        2, 2, 2, 2, 2, 2, 2, 2, 2, 2, 2, 2, 2, 2, 2, 2, 2, 2, 2, 2, 2, 2, 2, 2,\n",
       "        2, 2, 2, 2, 2, 2, 2, 2, 2, 2, 2, 2, 2, 2, 2, 2, 2, 2, 2, 2, 2, 2, 2, 2,\n",
       "        2, 2, 2, 2, 2, 2, 2, 2, 2, 2, 2, 2, 2, 2, 2, 3, 3, 3, 3, 3, 3, 3, 3, 3,\n",
       "        3, 3, 3, 3, 3, 3, 3, 3, 3, 3, 3, 3, 3, 3, 3, 3, 3, 3, 3, 3, 3, 3, 3, 3,\n",
       "        3, 3, 3, 3, 3, 3, 3, 3, 3, 3, 3, 3, 3, 3, 3, 3, 3, 3, 3, 3, 3, 3, 3, 3,\n",
       "        3, 3, 3, 3, 3, 3, 3, 3, 3, 3, 3, 3, 3, 3, 3, 3, 3, 3, 3, 3, 3, 3, 3, 3,\n",
       "        3, 3, 3, 3, 3, 3, 3, 3, 3, 3, 3, 3, 3, 3, 3, 3, 3, 3, 3, 3, 3, 3, 3, 3,\n",
       "        3, 3, 3, 3, 3, 3, 3, 3, 3, 3, 3, 3, 3, 3, 3, 3, 3, 3, 3, 3]), 'ptr': tensor([  0, 125, 250, 375, 500])}"
      ]
     },
     "execution_count": 400,
     "metadata": {},
     "output_type": "execute_result"
    }
   ],
   "source": [
    "data[\"node1\"]"
   ]
  },
  {
   "cell_type": "code",
   "execution_count": 393,
   "id": "fa4b0cbb",
   "metadata": {},
   "outputs": [
    {
     "data": {
      "text/plain": [
       "tensor([[ 2.,  5.,  5.,  5.,  6.,  3.],\n",
       "        [ 3.,  1.,  5.,  5.,  4., 10.],\n",
       "        [ 4.,  4.,  8.,  3.,  3.,  4.],\n",
       "        ...,\n",
       "        [ 3.,  7.,  5.,  6.,  6.,  2.],\n",
       "        [10.,  5.,  4.,  1.,  7., 10.],\n",
       "        [ 1.,  3.,  7.,  9.,  5.,  8.]])"
      ]
     },
     "execution_count": 393,
     "metadata": {},
     "output_type": "execute_result"
    }
   ],
   "source": [
    "data[(\"node2\", \"to\", \"node1\")].edge_attr"
   ]
  },
  {
   "cell_type": "code",
   "execution_count": 394,
   "id": "6add5571",
   "metadata": {},
   "outputs": [],
   "source": [
    "# InMemory data\n",
    "root2 = osp.join(os.getcwd(), \"yearlyroot\")\n",
    "yearlydata = YearlyData(root2)"
   ]
  },
  {
   "cell_type": "code",
   "execution_count": 395,
   "id": "ef87525e",
   "metadata": {},
   "outputs": [
    {
     "data": {
      "text/plain": [
       "HeteroData(\n",
       "  \u001b[1mnode1\u001b[0m={\n",
       "    x=[1250, 6],\n",
       "    num_nodes=1250\n",
       "  },\n",
       "  \u001b[1mnode2\u001b[0m={\n",
       "    x=[2000, 6],\n",
       "    num_nodes=2000\n",
       "  },\n",
       "  \u001b[1mnode3\u001b[0m={\n",
       "    x=[100, 6],\n",
       "    num_nodes=100\n",
       "  },\n",
       "  \u001b[1m(node2, to, node1)\u001b[0m={\n",
       "    edge_index=[2, 3500],\n",
       "    edge_attr=[3500, 6],\n",
       "    edge_label=[3500, 1]\n",
       "  },\n",
       "  \u001b[1m(node3, to, node2)\u001b[0m={\n",
       "    edge_index=[2, 3500],\n",
       "    edge_attr=[3500, 5],\n",
       "    edge_label=[3500, 1]\n",
       "  }\n",
       ")"
      ]
     },
     "execution_count": 395,
     "metadata": {},
     "output_type": "execute_result"
    }
   ],
   "source": [
    "yearlydata[0]"
   ]
  },
  {
   "cell_type": "code",
   "execution_count": 397,
   "id": "bca5d8bf",
   "metadata": {},
   "outputs": [],
   "source": [
    "ydata = T.NormalizeFeatures()(yearlydata[0])"
   ]
  },
  {
   "cell_type": "code",
   "execution_count": 399,
   "id": "10c6c14d",
   "metadata": {},
   "outputs": [
    {
     "data": {
      "text/plain": [
       "{'x': tensor([[0.2051, 0.2308, 0.1026, 0.2308, 0.0513, 0.1795],\n",
       "        [0.0286, 0.1714, 0.1714, 0.2286, 0.2571, 0.1429],\n",
       "        [0.0312, 0.1875, 0.1875, 0.0625, 0.2812, 0.2500],\n",
       "        ...,\n",
       "        [0.2500, 0.1667, 0.1250, 0.0833, 0.0833, 0.2917],\n",
       "        [0.0000, 0.0968, 0.2581, 0.2258, 0.1613, 0.2581],\n",
       "        [0.2353, 0.2353, 0.0882, 0.1471, 0.1176, 0.1765]]), 'num_nodes': 1250}"
      ]
     },
     "execution_count": 399,
     "metadata": {},
     "output_type": "execute_result"
    }
   ],
   "source": [
    "ydata[\"node1\"]"
   ]
  },
  {
   "cell_type": "markdown",
   "id": "496613b4",
   "metadata": {},
   "source": [
    "## Loading - Daily"
   ]
  },
  {
   "cell_type": "code",
   "execution_count": 8,
   "id": "8adf3bcb",
   "metadata": {},
   "outputs": [],
   "source": [
    "n = (len(dailydata) + 9) // 10\n",
    "train_dataset = dailydata[:2*n]\n",
    "val_dataset = dailydata[2*n:2*n+n]\n",
    "train_dataset = dailydata[2*n+n:]"
   ]
  },
  {
   "cell_type": "code",
   "execution_count": 9,
   "id": "6d1bc0b9",
   "metadata": {},
   "outputs": [
    {
     "data": {
      "text/plain": [
       "DailyData(21)"
      ]
     },
     "execution_count": 9,
     "metadata": {},
     "output_type": "execute_result"
    }
   ],
   "source": [
    "train_dataset"
   ]
  },
  {
   "cell_type": "code",
   "execution_count": 370,
   "id": "fb8427d0",
   "metadata": {},
   "outputs": [
    {
     "ename": "AttributeError",
     "evalue": "'DailyData' object has no attribute 'edge_stores'",
     "output_type": "error",
     "traceback": [
      "\u001b[1;31m---------------------------------------------------------------------------\u001b[0m",
      "\u001b[1;31mAttributeError\u001b[0m                            Traceback (most recent call last)",
      "Input \u001b[1;32mIn [370]\u001b[0m, in \u001b[0;36m<cell line: 1>\u001b[1;34m()\u001b[0m\n\u001b[1;32m----> 1\u001b[0m data \u001b[38;5;241m=\u001b[39m \u001b[43mT\u001b[49m\u001b[38;5;241;43m.\u001b[39;49m\u001b[43mToUndirected\u001b[49m\u001b[43m(\u001b[49m\u001b[43m)\u001b[49m\u001b[43m(\u001b[49m\u001b[43mdailydata\u001b[49m\u001b[43m)\u001b[49m\n\u001b[0;32m      2\u001b[0m data \u001b[38;5;241m=\u001b[39m T\u001b[38;5;241m.\u001b[39mAddSelfLoops()(data)\n\u001b[0;32m      3\u001b[0m data \u001b[38;5;241m=\u001b[39m T\u001b[38;5;241m.\u001b[39mNormalizeFeatures()(data)\n",
      "File \u001b[1;32mC:\\Anaconda3\\envs\\GNN\\lib\\site-packages\\torch_geometric\\transforms\\to_undirected.py:38\u001b[0m, in \u001b[0;36mToUndirected.__call__\u001b[1;34m(self, data)\u001b[0m\n\u001b[0;32m     37\u001b[0m \u001b[38;5;28;01mdef\u001b[39;00m \u001b[38;5;21m__call__\u001b[39m(\u001b[38;5;28mself\u001b[39m, data: Union[Data, HeteroData]):\n\u001b[1;32m---> 38\u001b[0m     \u001b[38;5;28;01mfor\u001b[39;00m store \u001b[38;5;129;01min\u001b[39;00m \u001b[43mdata\u001b[49m\u001b[38;5;241;43m.\u001b[39;49m\u001b[43medge_stores\u001b[49m:\n\u001b[0;32m     39\u001b[0m         \u001b[38;5;28;01mif\u001b[39;00m \u001b[38;5;124m'\u001b[39m\u001b[38;5;124medge_index\u001b[39m\u001b[38;5;124m'\u001b[39m \u001b[38;5;129;01mnot\u001b[39;00m \u001b[38;5;129;01min\u001b[39;00m store:\n\u001b[0;32m     40\u001b[0m             \u001b[38;5;28;01mcontinue\u001b[39;00m\n",
      "\u001b[1;31mAttributeError\u001b[0m: 'DailyData' object has no attribute 'edge_stores'"
     ]
    }
   ],
   "source": [
    "data = T.ToUndirected()(dailydata)\n",
    "data = T.AddSelfLoops()(data)\n",
    "data = T.NormalizeFeatures()(data)"
   ]
  },
  {
   "cell_type": "code",
   "execution_count": null,
   "id": "a5e22434",
   "metadata": {},
   "outputs": [],
   "source": []
  },
  {
   "cell_type": "code",
   "execution_count": 15,
   "id": "b790d8be",
   "metadata": {},
   "outputs": [],
   "source": [
    "from torch_geometric.loader import DataLoader\n",
    "loader = DataLoader(train_dataset, batch_size=5)"
   ]
  },
  {
   "cell_type": "code",
   "execution_count": 16,
   "id": "245186e9",
   "metadata": {},
   "outputs": [
    {
     "data": {
      "text/plain": [
       "5"
      ]
     },
     "execution_count": 16,
     "metadata": {},
     "output_type": "execute_result"
    }
   ],
   "source": [
    "len(loader)"
   ]
  },
  {
   "cell_type": "code",
   "execution_count": 17,
   "id": "e10b9699",
   "metadata": {},
   "outputs": [
    {
     "data": {
      "text/plain": [
       "HeteroDataBatch(\n",
       "  \u001b[1mnode1\u001b[0m={\n",
       "    x=[625, 6],\n",
       "    num_nodes=625,\n",
       "    batch=[625],\n",
       "    ptr=[6]\n",
       "  },\n",
       "  \u001b[1mnode2\u001b[0m={\n",
       "    x=[1000, 6],\n",
       "    num_nodes=1000,\n",
       "    batch=[1000],\n",
       "    ptr=[6]\n",
       "  },\n",
       "  \u001b[1mnode3\u001b[0m={\n",
       "    x=[50, 6],\n",
       "    num_nodes=50,\n",
       "    batch=[50],\n",
       "    ptr=[6]\n",
       "  },\n",
       "  \u001b[1m(node2, to, node1)\u001b[0m={\n",
       "    edge_index=[2, 1750],\n",
       "    edge_attr=[1750, 6],\n",
       "    edge_label=[1750, 1]\n",
       "  },\n",
       "  \u001b[1m(node3, to, node2)\u001b[0m={\n",
       "    edge_index=[2, 1750],\n",
       "    edge_attr=[1750, 5],\n",
       "    edge_label=[1750, 1]\n",
       "  }\n",
       ")"
      ]
     },
     "execution_count": 17,
     "metadata": {},
     "output_type": "execute_result"
    }
   ],
   "source": [
    "sampled_hetero_data = next(iter(loader))\n",
    "sampled_hetero_data"
   ]
  },
  {
   "cell_type": "code",
   "execution_count": 18,
   "id": "11a2f009",
   "metadata": {},
   "outputs": [
    {
     "data": {
      "text/plain": [
       "tensor([[ 35, 181,  78,  ..., 840, 817, 873],\n",
       "        [ 82, 112,  11,  ..., 617, 503, 508]])"
      ]
     },
     "execution_count": 18,
     "metadata": {},
     "output_type": "execute_result"
    }
   ],
   "source": [
    "sampled_hetero_data[(\"node2\", \"to\", \"node1\")].edge_index"
   ]
  },
  {
   "cell_type": "markdown",
   "id": "a96e1944",
   "metadata": {},
   "source": [
    "### Transforms"
   ]
  },
  {
   "cell_type": "code",
   "execution_count": 378,
   "id": "c774a669",
   "metadata": {},
   "outputs": [],
   "source": [
    "loader = DataLoader(dailydata, batch_size=len(dailydata))\n",
    "data = next(iter(loader))"
   ]
  },
  {
   "cell_type": "code",
   "execution_count": null,
   "id": "5b1df280",
   "metadata": {},
   "outputs": [],
   "source": [
    "transform = T.Compose([T.ToUndirected(), T.AddSelfLoops()])\n",
    "data = transform(data)\n",
    "data"
   ]
  },
  {
   "cell_type": "code",
   "execution_count": 382,
   "id": "8b2ba640",
   "metadata": {},
   "outputs": [
    {
     "ename": "AttributeError",
     "evalue": "'DailyData' object has no attribute 'stores'",
     "output_type": "error",
     "traceback": [
      "\u001b[1;31m---------------------------------------------------------------------------\u001b[0m",
      "\u001b[1;31mAttributeError\u001b[0m                            Traceback (most recent call last)",
      "Input \u001b[1;32mIn [382]\u001b[0m, in \u001b[0;36m<cell line: 1>\u001b[1;34m()\u001b[0m\n\u001b[1;32m----> 1\u001b[0m data \u001b[38;5;241m=\u001b[39m \u001b[43mT\u001b[49m\u001b[38;5;241;43m.\u001b[39;49m\u001b[43mNormalizeFeatures\u001b[49m\u001b[43m(\u001b[49m\u001b[43m)\u001b[49m\u001b[43m(\u001b[49m\u001b[43mdailydata\u001b[49m\u001b[43m)\u001b[49m\n",
      "File \u001b[1;32mC:\\Anaconda3\\envs\\GNN\\lib\\site-packages\\torch_geometric\\transforms\\normalize_features.py:21\u001b[0m, in \u001b[0;36mNormalizeFeatures.__call__\u001b[1;34m(self, data)\u001b[0m\n\u001b[0;32m     20\u001b[0m \u001b[38;5;28;01mdef\u001b[39;00m \u001b[38;5;21m__call__\u001b[39m(\u001b[38;5;28mself\u001b[39m, data: Union[Data, HeteroData]):\n\u001b[1;32m---> 21\u001b[0m     \u001b[38;5;28;01mfor\u001b[39;00m store \u001b[38;5;129;01min\u001b[39;00m \u001b[43mdata\u001b[49m\u001b[38;5;241;43m.\u001b[39;49m\u001b[43mstores\u001b[49m:\n\u001b[0;32m     22\u001b[0m         \u001b[38;5;28;01mfor\u001b[39;00m key, value \u001b[38;5;129;01min\u001b[39;00m store\u001b[38;5;241m.\u001b[39mitems(\u001b[38;5;241m*\u001b[39m\u001b[38;5;28mself\u001b[39m\u001b[38;5;241m.\u001b[39mattrs):\n\u001b[0;32m     23\u001b[0m             value \u001b[38;5;241m=\u001b[39m value \u001b[38;5;241m-\u001b[39m value\u001b[38;5;241m.\u001b[39mmin()\n",
      "\u001b[1;31mAttributeError\u001b[0m: 'DailyData' object has no attribute 'stores'"
     ]
    }
   ],
   "source": [
    "data = T.NormalizeFeatures()(dailydata)"
   ]
  },
  {
   "cell_type": "code",
   "execution_count": 375,
   "id": "bcbcd97e",
   "metadata": {},
   "outputs": [],
   "source": [
    "# Get full data stats for normalization\n",
    "import torch_geometric.transforms as T\n",
    "from collections import defaultdict\n",
    "from copy import copy\n",
    "\n",
    "def getfullstats(dailydata):\n",
    "    \"\"\"\n",
    "    Pass the data into a loader to get the full stats\n",
    "    Do this before Transforms that add reverse edges \n",
    "    Create a transform for this if you want to limit edge columns\n",
    "    \"\"\"\n",
    "    loader = DataLoader(dailydata, batch_size=len(dailydata))\n",
    "    data = next(iter(loader))\n",
    "    edge_stats = defaultdict(dict)\n",
    "    for edge in data.edge_types: \n",
    "        e = data[edge].edge_attr\n",
    "        # get stats\n",
    "        edge_stats[edge][\"mean\"] = e.mean(dim=0, keepdim=True)\n",
    "        edge_stats[edge][\"std\"] = e.std(dim=0, keepdim=True)\n",
    "        edge_stats[edge][\"min\"] = torch.min(e, 0).values\n",
    "        edge_stats[edge][\"max\"] = torch.max(e, 0).values\n",
    "    return edge_stats    \n",
    "\n",
    "def edge_norm_fn(edge_stats):\n",
    "    \"\"\"\n",
    "    Normalization of edge_attributes\n",
    "    \"\"\"\n",
    "    for edge in data[0].edge_types:\n",
    "        norm_data = copy(data)\n",
    "        xmean = edge_stats[edge][\"mean\"]\n",
    "        xstd = edge_stats[edge][\"std\"]\n",
    "        xmin,xmax = edge_stats[edge][\"min\"],edge_stats[edge][\"max\"]\n",
    "        for i in range(len(data)): \n",
    "            x = norm_data[i][edge].edge_attr\n",
    "            del data[i][edge].edge_attr\n",
    "            norm_data[i][edge].edge_attr = (x-xmean)/(xmax-xmin)\n",
    "    return norm_data\n",
    "\n",
    "\n",
    "edge_stats = getfullstats(dailydata)"
   ]
  },
  {
   "cell_type": "code",
   "execution_count": 377,
   "id": "41f48a6f",
   "metadata": {},
   "outputs": [
    {
     "data": {
      "text/plain": [
       "tensor([[ 5.,  3.,  6.,  7.,  1.],\n",
       "        [ 9.,  8.,  0.,  8.,  4.],\n",
       "        [ 2.,  5.,  7., 10.,  1.],\n",
       "        ...,\n",
       "        [10.,  7.,  7.,  3.,  5.],\n",
       "        [ 2.,  2.,  9.,  7.,  1.],\n",
       "        [ 3.,  8.,  3.,  8.,  7.]])"
      ]
     },
     "execution_count": 377,
     "metadata": {},
     "output_type": "execute_result"
    },
    {
     "data": {
      "text/plain": [
       "tensor([[ 5.,  3.,  6.,  7.,  1.],\n",
       "        [ 9.,  8.,  0.,  8.,  4.],\n",
       "        [ 2.,  5.,  7., 10.,  1.],\n",
       "        ...,\n",
       "        [10.,  7.,  7.,  3.,  5.],\n",
       "        [ 2.,  2.,  9.,  7.,  1.],\n",
       "        [ 3.,  8.,  3.,  8.,  7.]])"
      ]
     },
     "execution_count": 377,
     "metadata": {},
     "output_type": "execute_result"
    }
   ],
   "source": [
    "new_data = edge_norm_fn(dailydata)\n",
    "data[3][dailydata[0].edge_types[1]].edge_attr\n",
    "new_data[3][dailydata[0].edge_types[1]].edge_attr"
   ]
  },
  {
   "cell_type": "code",
   "execution_count": 342,
   "id": "d4552104",
   "metadata": {},
   "outputs": [
    {
     "data": {
      "text/plain": [
       "tensor([[ 8.,  4.,  9.,  5.,  5.,  3.],\n",
       "        [ 4.,  1.,  2.,  8.,  7.,  8.],\n",
       "        [ 7.,  7.,  4.,  7.,  8.,  5.],\n",
       "        ...,\n",
       "        [ 1.,  4.,  1.,  2.,  9.,  5.],\n",
       "        [ 8.,  2.,  5.,  8., 10.,  7.],\n",
       "        [ 9.,  8.,  1.,  1.,  8.,  2.]])"
      ]
     },
     "execution_count": 342,
     "metadata": {},
     "output_type": "execute_result"
    },
    {
     "data": {
      "text/plain": [
       "tensor([[ 0.3030, -0.1022,  0.4018,  0.0022,  0.0026, -0.2051],\n",
       "        [-0.0970, -0.4022, -0.2982,  0.3022,  0.2026,  0.2949],\n",
       "        [ 0.2030,  0.1978, -0.0982,  0.2022,  0.3026, -0.0051],\n",
       "        ...,\n",
       "        [-0.3970, -0.1022, -0.3982, -0.2978,  0.4026, -0.0051],\n",
       "        [ 0.3030, -0.3022,  0.0018,  0.3022,  0.5026,  0.1949],\n",
       "        [ 0.4030,  0.2978, -0.3982, -0.3978,  0.3026, -0.3051]])"
      ]
     },
     "execution_count": 342,
     "metadata": {},
     "output_type": "execute_result"
    }
   ],
   "source": [
    "data = dailydata[0]\n",
    "edge = dailydata[0].edge_types[0]\n",
    "x = data[edge].edge_attr\n",
    "xmean = edge_stats[edge][\"mean\"]\n",
    "xmin,xmax = edge_stats[edge][\"min\"],edge_stats[edge][\"max\"]\n",
    "\n",
    "x\n",
    "data[edge].edge_attr = (x-xmean)/(xmax-xmin)\n",
    "data[edge].edge_attr"
   ]
  },
  {
   "cell_type": "code",
   "execution_count": 345,
   "id": "1e9cdf86",
   "metadata": {},
   "outputs": [
    {
     "data": {
      "text/plain": [
       "tensor([[ 8.,  4.,  9.,  5.,  5.,  3.],\n",
       "        [ 4.,  1.,  2.,  8.,  7.,  8.],\n",
       "        [ 7.,  7.,  4.,  7.,  8.,  5.],\n",
       "        ...,\n",
       "        [ 1.,  4.,  1.,  2.,  9.,  5.],\n",
       "        [ 8.,  2.,  5.,  8., 10.,  7.],\n",
       "        [ 9.,  8.,  1.,  1.,  8.,  2.]])"
      ]
     },
     "execution_count": 345,
     "metadata": {},
     "output_type": "execute_result"
    }
   ],
   "source": [
    "dailydata[0][edge].edge_attr"
   ]
  },
  {
   "cell_type": "code",
   "execution_count": null,
   "id": "4cbbdcca",
   "metadata": {},
   "outputs": [],
   "source": [
    "data[i][edge].edge_attr = (x-xmean)/(xmax-xmin)"
   ]
  },
  {
   "cell_type": "code",
   "execution_count": 346,
   "id": "f79c9ece",
   "metadata": {},
   "outputs": [],
   "source": []
  },
  {
   "cell_type": "code",
   "execution_count": 335,
   "id": "8b6ba544",
   "metadata": {},
   "outputs": [],
   "source": [
    "transform(dailydata[0])"
   ]
  },
  {
   "cell_type": "code",
   "execution_count": 336,
   "id": "b29cea31",
   "metadata": {},
   "outputs": [
    {
     "data": {
      "text/plain": [
       "tensor([[ 8.,  4.,  9.,  5.,  5.,  3.],\n",
       "        [ 4.,  1.,  2.,  8.,  7.,  8.],\n",
       "        [ 7.,  7.,  4.,  7.,  8.,  5.],\n",
       "        ...,\n",
       "        [ 1.,  4.,  1.,  2.,  9.,  5.],\n",
       "        [ 8.,  2.,  5.,  8., 10.,  7.],\n",
       "        [ 9.,  8.,  1.,  1.,  8.,  2.]])"
      ]
     },
     "execution_count": 336,
     "metadata": {},
     "output_type": "execute_result"
    }
   ],
   "source": [
    "data_t[0][(\"node2\", \"to\", \"node1\")].edge_attr"
   ]
  },
  {
   "cell_type": "code",
   "execution_count": null,
   "id": "297b4f43",
   "metadata": {},
   "outputs": [],
   "source": [
    "def transform_fn(data):\n",
    "   data[edge_type].edge_attr\n",
    "   return data"
   ]
  },
  {
   "cell_type": "markdown",
   "id": "e38e2798",
   "metadata": {},
   "source": [
    "## File index mapping"
   ]
  },
  {
   "cell_type": "code",
   "execution_count": 21,
   "id": "7af8b48e",
   "metadata": {},
   "outputs": [],
   "source": [
    "node1x = torch.rand((350,4))\n",
    "node2x = torch.rand((1000,7))\n",
    "node3x = torch.rand((60,4))"
   ]
  },
  {
   "cell_type": "code",
   "execution_count": null,
   "id": "d38c57ca",
   "metadata": {},
   "outputs": [],
   "source": [
    "idx1 = torch.tensor(self.get_edges(200, 125), dtype=torch.long)"
   ]
  },
  {
   "cell_type": "code",
   "execution_count": 20,
   "id": "8778e7e3",
   "metadata": {},
   "outputs": [
    {
     "data": {
      "text/plain": [
       "tensor([[0.4921, 0.3575, 0.4293, 0.7944],\n",
       "        [0.7774, 0.0929, 0.7056, 0.0589],\n",
       "        [0.7587, 0.2424, 0.5981, 0.3171],\n",
       "        ...,\n",
       "        [0.1629, 0.4417, 0.3113, 0.8817],\n",
       "        [0.4475, 0.1902, 0.1020, 0.9192],\n",
       "        [0.6733, 0.2430, 0.9555, 0.1451]])"
      ]
     },
     "execution_count": 20,
     "metadata": {},
     "output_type": "execute_result"
    }
   ],
   "source": [
    "nodex"
   ]
  },
  {
   "cell_type": "code",
   "execution_count": null,
   "id": "b6a814dd",
   "metadata": {},
   "outputs": [],
   "source": []
  },
  {
   "cell_type": "code",
   "execution_count": null,
   "id": "8580464b",
   "metadata": {},
   "outputs": [],
   "source": [
    "# test Data split and creation"
   ]
  },
  {
   "cell_type": "markdown",
   "id": "cf92ca7b",
   "metadata": {},
   "source": [
    "## Changes"
   ]
  },
  {
   "cell_type": "code",
   "execution_count": null,
   "id": "da1bd834",
   "metadata": {},
   "outputs": [],
   "source": [
    "def train(model, optimizer, train_loader, device):\n",
    "    model.train()\n",
    "\n",
    "    for data in train_loader:\n",
    "        optimizer.zero_grad()\n",
    "        data = data.to(device)\n",
    "        out = model(data.pos, data.batch)\n",
    "        loss = F.nll_loss(out, data.y)\n",
    "        loss.backward()\n",
    "        optimizer.step()\n",
    "\n",
    "\n",
    "\n",
    "val_losses, accs, durations = [], [], []\n",
    "\n",
    "if torch.cuda.is_available():\n",
    "        torch.cuda.synchronize()\n",
    "    t_start = time.perf_counter()\n",
    "\n",
    "for epoch in range(epochs):\n",
    "    train_loss = train(model, optimizer, train_loader)\n",
    "    val_losses.append(eval_loss(model, val_loader))\n",
    "    accs.append(eval_acc(model, test_loader))\n",
    "    eval_info = {\n",
    "        'fold': fold,\n",
    "        'epoch': epoch,\n",
    "        'train_loss': train_loss,\n",
    "        'val_loss': val_losses[-1],\n",
    "        'test_acc': accs[-1],\n",
    "    }\n",
    "    \n",
    "if torch.cuda.is_available():\n",
    "    torch.cuda.synchronize()\n",
    "t_end = time.perf_counter()\n",
    "durations.append(t_end - t_start)\n",
    "\n",
    "print(f'Epoch: {epoch:03d}, Test: {test_acc:.4f}, '\n",
    "              f'Duration: {t_end - t_start:.2f}')\n",
    "\n"
   ]
  }
 ],
 "metadata": {
  "kernelspec": {
   "display_name": "GNN",
   "language": "python",
   "name": "gnn"
  },
  "language_info": {
   "codemirror_mode": {
    "name": "ipython",
    "version": 3
   },
   "file_extension": ".py",
   "mimetype": "text/x-python",
   "name": "python",
   "nbconvert_exporter": "python",
   "pygments_lexer": "ipython3",
   "version": "3.10.4"
  }
 },
 "nbformat": 4,
 "nbformat_minor": 5
}

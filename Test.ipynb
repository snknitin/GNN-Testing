{
 "cells": [
  {
   "cell_type": "code",
   "execution_count": 250,
   "id": "d8fe6c2e",
   "metadata": {},
   "outputs": [],
   "source": [
    "import os\n",
    "import os.path as osp\n",
    "import pandas as pd\n",
    "import numpy as np\n",
    "import torch"
   ]
  },
  {
   "cell_type": "code",
   "execution_count": 285,
   "id": "fc3183e9",
   "metadata": {},
   "outputs": [],
   "source": [
    "from IPython.core.interactiveshell import InteractiveShell\n",
    "InteractiveShell.ast_node_interactivity = \"all\""
   ]
  },
  {
   "cell_type": "code",
   "execution_count": 251,
   "id": "3822ebb1",
   "metadata": {},
   "outputs": [],
   "source": [
    "def get_edges(x,y):\n",
    "    src = np.random.randint(0,x,3500)\n",
    "    dest = np.random.randint(0,y, 3500)\n",
    "    return [src,dest]"
   ]
  },
  {
   "cell_type": "code",
   "execution_count": 252,
   "id": "62e731d2",
   "metadata": {},
   "outputs": [],
   "source": [
    "from data import DailyData ,YearlyData"
   ]
  },
  {
   "cell_type": "markdown",
   "id": "b879624d",
   "metadata": {},
   "source": [
    "## Create graph structure"
   ]
  },
  {
   "cell_type": "code",
   "execution_count": 385,
   "id": "503e73ac",
   "metadata": {},
   "outputs": [
    {
     "name": "stderr",
     "output_type": "stream",
     "text": [
      "Processing...\n",
      "Done!\n"
     ]
    }
   ],
   "source": [
    "# Larget data\n",
    "transform = T.Compose([T.ToUndirected(), T.AddSelfLoops(),T.NormalizeFeatures()])\n",
    "root1 = osp.join(os.getcwd(), \"dailyroot\")\n",
    "dailydata = DailyData(root1, transform = transform)"
   ]
  },
  {
   "cell_type": "code",
   "execution_count": 387,
   "id": "c70d3f1b",
   "metadata": {},
   "outputs": [
    {
     "data": {
      "text/plain": [
       "HeteroData(\n",
       "  \u001b[1mnode1\u001b[0m={\n",
       "    x=[125, 6],\n",
       "    num_nodes=125\n",
       "  },\n",
       "  \u001b[1mnode2\u001b[0m={\n",
       "    x=[200, 6],\n",
       "    num_nodes=200\n",
       "  },\n",
       "  \u001b[1mnode3\u001b[0m={\n",
       "    x=[10, 6],\n",
       "    num_nodes=10\n",
       "  },\n",
       "  \u001b[1m(node2, to, node1)\u001b[0m={\n",
       "    edge_index=[2, 350],\n",
       "    edge_attr=[350, 6],\n",
       "    edge_label=[350, 1]\n",
       "  },\n",
       "  \u001b[1m(node3, to, node2)\u001b[0m={\n",
       "    edge_index=[2, 350],\n",
       "    edge_attr=[350, 5],\n",
       "    edge_label=[350, 1]\n",
       "  },\n",
       "  \u001b[1m(node1, rev_to, node2)\u001b[0m={\n",
       "    edge_index=[2, 350],\n",
       "    edge_attr=[350, 6],\n",
       "    edge_label=[350, 1]\n",
       "  },\n",
       "  \u001b[1m(node2, rev_to, node3)\u001b[0m={\n",
       "    edge_index=[2, 350],\n",
       "    edge_attr=[350, 5],\n",
       "    edge_label=[350, 1]\n",
       "  }\n",
       ")"
      ]
     },
     "execution_count": 387,
     "metadata": {},
     "output_type": "execute_result"
    }
   ],
   "source": [
    "dailydata[29]"
   ]
  },
  {
   "cell_type": "code",
   "execution_count": 255,
   "id": "fd98d564",
   "metadata": {},
   "outputs": [],
   "source": [
    "#dataset = dailydata.shuffle()"
   ]
  },
  {
   "cell_type": "code",
   "execution_count": 390,
   "id": "7e381cc7",
   "metadata": {},
   "outputs": [],
   "source": [
    "from torch_geometric.loader import DataLoader\n",
    "loader = DataLoader(dailydata, batch_size=4)\n",
    "data = next(iter(loader))"
   ]
  },
  {
   "cell_type": "code",
   "execution_count": 393,
   "id": "362e5d3d",
   "metadata": {},
   "outputs": [
    {
     "data": {
      "text/plain": [
       "tensor([[ 2.,  5.,  5.,  5.,  6.,  3.],\n",
       "        [ 3.,  1.,  5.,  5.,  4., 10.],\n",
       "        [ 4.,  4.,  8.,  3.,  3.,  4.],\n",
       "        ...,\n",
       "        [ 3.,  7.,  5.,  6.,  6.,  2.],\n",
       "        [10.,  5.,  4.,  1.,  7., 10.],\n",
       "        [ 1.,  3.,  7.,  9.,  5.,  8.]])"
      ]
     },
     "execution_count": 393,
     "metadata": {},
     "output_type": "execute_result"
    }
   ],
   "source": [
    "data[(\"node2\", \"to\", \"node1\")].edge_attr"
   ]
  },
  {
   "cell_type": "code",
   "execution_count": 257,
   "id": "a8273a63",
   "metadata": {},
   "outputs": [],
   "source": [
    "# InMemory data\n",
    "root2 = osp.join(os.getcwd(), \"yearlyroot\")\n",
    "yearlydata = YearlyData(root2)"
   ]
  },
  {
   "cell_type": "code",
   "execution_count": 258,
   "id": "01f677b4",
   "metadata": {},
   "outputs": [
    {
     "data": {
      "text/plain": [
       "HeteroData(\n",
       "  \u001b[1mnode1\u001b[0m={\n",
       "    x=[1250, 6],\n",
       "    num_nodes=1250\n",
       "  },\n",
       "  \u001b[1mnode2\u001b[0m={\n",
       "    x=[2000, 6],\n",
       "    num_nodes=2000\n",
       "  },\n",
       "  \u001b[1mnode3\u001b[0m={\n",
       "    x=[100, 6],\n",
       "    num_nodes=100\n",
       "  },\n",
       "  \u001b[1m(node2, to, node1)\u001b[0m={\n",
       "    edge_index=[2, 3500],\n",
       "    edge_attr=[3500, 6],\n",
       "    edge_label=[3500, 1]\n",
       "  },\n",
       "  \u001b[1m(node3, to, node2)\u001b[0m={\n",
       "    edge_index=[2, 3500],\n",
       "    edge_attr=[3500, 5],\n",
       "    edge_label=[3500, 1]\n",
       "  }\n",
       ")"
      ]
     },
     "execution_count": 258,
     "metadata": {},
     "output_type": "execute_result"
    }
   ],
   "source": [
    "yearlydata[0]"
   ]
  },
  {
   "cell_type": "markdown",
   "id": "7814a5a4",
   "metadata": {},
   "source": [
    "## Loading - Daily"
   ]
  },
  {
   "cell_type": "code",
   "execution_count": 259,
   "id": "cbcbed48",
   "metadata": {},
   "outputs": [],
   "source": [
    "n = (len(dailydata) + 9) // 10\n",
    "train_dataset = dailydata[:2*n]\n",
    "val_dataset = dailydata[2*n:2*n+n]\n",
    "train_dataset = dailydata[2*n+n:]"
   ]
  },
  {
   "cell_type": "code",
   "execution_count": 260,
   "id": "bdc120de",
   "metadata": {},
   "outputs": [
    {
     "data": {
      "text/plain": [
       "DailyData(21)"
      ]
     },
     "execution_count": 260,
     "metadata": {},
     "output_type": "execute_result"
    }
   ],
   "source": [
    "train_dataset"
   ]
  },
  {
   "cell_type": "code",
   "execution_count": 370,
   "id": "2d0b43ca",
   "metadata": {},
   "outputs": [
    {
     "ename": "AttributeError",
     "evalue": "'DailyData' object has no attribute 'edge_stores'",
     "output_type": "error",
     "traceback": [
      "\u001b[1;31m---------------------------------------------------------------------------\u001b[0m",
      "\u001b[1;31mAttributeError\u001b[0m                            Traceback (most recent call last)",
      "Input \u001b[1;32mIn [370]\u001b[0m, in \u001b[0;36m<cell line: 1>\u001b[1;34m()\u001b[0m\n\u001b[1;32m----> 1\u001b[0m data \u001b[38;5;241m=\u001b[39m \u001b[43mT\u001b[49m\u001b[38;5;241;43m.\u001b[39;49m\u001b[43mToUndirected\u001b[49m\u001b[43m(\u001b[49m\u001b[43m)\u001b[49m\u001b[43m(\u001b[49m\u001b[43mdailydata\u001b[49m\u001b[43m)\u001b[49m\n\u001b[0;32m      2\u001b[0m data \u001b[38;5;241m=\u001b[39m T\u001b[38;5;241m.\u001b[39mAddSelfLoops()(data)\n\u001b[0;32m      3\u001b[0m data \u001b[38;5;241m=\u001b[39m T\u001b[38;5;241m.\u001b[39mNormalizeFeatures()(data)\n",
      "File \u001b[1;32mC:\\Anaconda3\\envs\\GNN\\lib\\site-packages\\torch_geometric\\transforms\\to_undirected.py:38\u001b[0m, in \u001b[0;36mToUndirected.__call__\u001b[1;34m(self, data)\u001b[0m\n\u001b[0;32m     37\u001b[0m \u001b[38;5;28;01mdef\u001b[39;00m \u001b[38;5;21m__call__\u001b[39m(\u001b[38;5;28mself\u001b[39m, data: Union[Data, HeteroData]):\n\u001b[1;32m---> 38\u001b[0m     \u001b[38;5;28;01mfor\u001b[39;00m store \u001b[38;5;129;01min\u001b[39;00m \u001b[43mdata\u001b[49m\u001b[38;5;241;43m.\u001b[39;49m\u001b[43medge_stores\u001b[49m:\n\u001b[0;32m     39\u001b[0m         \u001b[38;5;28;01mif\u001b[39;00m \u001b[38;5;124m'\u001b[39m\u001b[38;5;124medge_index\u001b[39m\u001b[38;5;124m'\u001b[39m \u001b[38;5;129;01mnot\u001b[39;00m \u001b[38;5;129;01min\u001b[39;00m store:\n\u001b[0;32m     40\u001b[0m             \u001b[38;5;28;01mcontinue\u001b[39;00m\n",
      "\u001b[1;31mAttributeError\u001b[0m: 'DailyData' object has no attribute 'edge_stores'"
     ]
    }
   ],
   "source": [
    "data = T.ToUndirected()(dailydata)\n",
    "data = T.AddSelfLoops()(data)\n",
    "data = T.NormalizeFeatures()(data)"
   ]
  },
  {
   "cell_type": "code",
   "execution_count": null,
   "id": "66486cef",
   "metadata": {},
   "outputs": [],
   "source": []
  },
  {
   "cell_type": "code",
   "execution_count": 360,
   "id": "0e4666bb",
   "metadata": {},
   "outputs": [],
   "source": [
    "from torch_geometric.loader import DataLoader\n",
    "loader = DataLoader(train_dataset, batch_size=4)"
   ]
  },
  {
   "cell_type": "code",
   "execution_count": 361,
   "id": "9ee3928d",
   "metadata": {},
   "outputs": [
    {
     "data": {
      "text/plain": [
       "6"
      ]
     },
     "execution_count": 361,
     "metadata": {},
     "output_type": "execute_result"
    }
   ],
   "source": [
    "len(loader)"
   ]
  },
  {
   "cell_type": "code",
   "execution_count": 262,
   "id": "81fcb442",
   "metadata": {},
   "outputs": [
    {
     "data": {
      "text/plain": [
       "HeteroDataBatch(\n",
       "  \u001b[1mnode1\u001b[0m={\n",
       "    x=[500, 6],\n",
       "    num_nodes=500,\n",
       "    batch=[500],\n",
       "    ptr=[5]\n",
       "  },\n",
       "  \u001b[1mnode2\u001b[0m={\n",
       "    x=[800, 6],\n",
       "    num_nodes=800,\n",
       "    batch=[800],\n",
       "    ptr=[5]\n",
       "  },\n",
       "  \u001b[1mnode3\u001b[0m={\n",
       "    x=[40, 6],\n",
       "    num_nodes=40,\n",
       "    batch=[40],\n",
       "    ptr=[5]\n",
       "  },\n",
       "  \u001b[1m(node2, to, node1)\u001b[0m={\n",
       "    edge_index=[2, 1400],\n",
       "    edge_attr=[1400, 6],\n",
       "    edge_label=[1400, 1]\n",
       "  },\n",
       "  \u001b[1m(node3, to, node2)\u001b[0m={\n",
       "    edge_index=[2, 1400],\n",
       "    edge_attr=[1400, 5],\n",
       "    edge_label=[1400, 1]\n",
       "  }\n",
       ")"
      ]
     },
     "execution_count": 262,
     "metadata": {},
     "output_type": "execute_result"
    }
   ],
   "source": [
    "sampled_hetero_data = next(iter(loader))\n",
    "sampled_hetero_data"
   ]
  },
  {
   "cell_type": "markdown",
   "id": "c4049ee8",
   "metadata": {},
   "source": [
    "### Transforms"
   ]
  },
  {
   "cell_type": "code",
   "execution_count": 378,
   "id": "ee2dae94",
   "metadata": {},
   "outputs": [],
   "source": [
    "loader = DataLoader(dailydata, batch_size=len(dailydata))\n",
    "data = next(iter(loader))"
   ]
  },
  {
   "cell_type": "code",
   "execution_count": null,
   "id": "8c9e5180",
   "metadata": {},
   "outputs": [],
   "source": [
    "transform = T.Compose([T.ToUndirected(), T.AddSelfLoops()])\n",
    "data = transform(data)\n",
    "data"
   ]
  },
  {
   "cell_type": "code",
   "execution_count": 382,
   "id": "f7167b48",
   "metadata": {},
   "outputs": [
    {
     "ename": "AttributeError",
     "evalue": "'DailyData' object has no attribute 'stores'",
     "output_type": "error",
     "traceback": [
      "\u001b[1;31m---------------------------------------------------------------------------\u001b[0m",
      "\u001b[1;31mAttributeError\u001b[0m                            Traceback (most recent call last)",
      "Input \u001b[1;32mIn [382]\u001b[0m, in \u001b[0;36m<cell line: 1>\u001b[1;34m()\u001b[0m\n\u001b[1;32m----> 1\u001b[0m data \u001b[38;5;241m=\u001b[39m \u001b[43mT\u001b[49m\u001b[38;5;241;43m.\u001b[39;49m\u001b[43mNormalizeFeatures\u001b[49m\u001b[43m(\u001b[49m\u001b[43m)\u001b[49m\u001b[43m(\u001b[49m\u001b[43mdailydata\u001b[49m\u001b[43m)\u001b[49m\n",
      "File \u001b[1;32mC:\\Anaconda3\\envs\\GNN\\lib\\site-packages\\torch_geometric\\transforms\\normalize_features.py:21\u001b[0m, in \u001b[0;36mNormalizeFeatures.__call__\u001b[1;34m(self, data)\u001b[0m\n\u001b[0;32m     20\u001b[0m \u001b[38;5;28;01mdef\u001b[39;00m \u001b[38;5;21m__call__\u001b[39m(\u001b[38;5;28mself\u001b[39m, data: Union[Data, HeteroData]):\n\u001b[1;32m---> 21\u001b[0m     \u001b[38;5;28;01mfor\u001b[39;00m store \u001b[38;5;129;01min\u001b[39;00m \u001b[43mdata\u001b[49m\u001b[38;5;241;43m.\u001b[39;49m\u001b[43mstores\u001b[49m:\n\u001b[0;32m     22\u001b[0m         \u001b[38;5;28;01mfor\u001b[39;00m key, value \u001b[38;5;129;01min\u001b[39;00m store\u001b[38;5;241m.\u001b[39mitems(\u001b[38;5;241m*\u001b[39m\u001b[38;5;28mself\u001b[39m\u001b[38;5;241m.\u001b[39mattrs):\n\u001b[0;32m     23\u001b[0m             value \u001b[38;5;241m=\u001b[39m value \u001b[38;5;241m-\u001b[39m value\u001b[38;5;241m.\u001b[39mmin()\n",
      "\u001b[1;31mAttributeError\u001b[0m: 'DailyData' object has no attribute 'stores'"
     ]
    }
   ],
   "source": [
    "data = T.NormalizeFeatures()(dailydata)"
   ]
  },
  {
   "cell_type": "code",
   "execution_count": 375,
   "id": "92cc709d",
   "metadata": {},
   "outputs": [],
   "source": [
    "# Get full data stats for normalization\n",
    "import torch_geometric.transforms as T\n",
    "from collections import defaultdict\n",
    "from copy import copy\n",
    "\n",
    "def getfullstats(dailydata):\n",
    "    \"\"\"\n",
    "    Pass the data into a loader to get the full stats\n",
    "    Do this before Transforms that add reverse edges \n",
    "    Create a transform for this if you want to limit edge columns\n",
    "    \"\"\"\n",
    "    loader = DataLoader(dailydata, batch_size=len(dailydata))\n",
    "    data = next(iter(loader))\n",
    "    edge_stats = defaultdict(dict)\n",
    "    for edge in data.edge_types: \n",
    "        e = data[edge].edge_attr\n",
    "        # get stats\n",
    "        edge_stats[edge][\"mean\"] = e.mean(dim=0, keepdim=True)\n",
    "        edge_stats[edge][\"std\"] = e.std(dim=0, keepdim=True)\n",
    "        edge_stats[edge][\"min\"] = torch.min(e, 0).values\n",
    "        edge_stats[edge][\"max\"] = torch.max(e, 0).values\n",
    "    return edge_stats    \n",
    "\n",
    "def edge_norm_fn(edge_stats):\n",
    "    \"\"\"\n",
    "    Normalization of edge_attributes\n",
    "    \"\"\"\n",
    "    for edge in data[0].edge_types:\n",
    "        norm_data = copy(data)\n",
    "        xmean = edge_stats[edge][\"mean\"]\n",
    "        xstd = edge_stats[edge][\"std\"]\n",
    "        xmin,xmax = edge_stats[edge][\"min\"],edge_stats[edge][\"max\"]\n",
    "        for i in range(len(data)): \n",
    "            x = norm_data[i][edge].edge_attr\n",
    "            del data[i][edge].edge_attr\n",
    "            norm_data[i][edge].edge_attr = (x-xmean)/(xmax-xmin)\n",
    "    return norm_data\n",
    "\n",
    "\n",
    "edge_stats = getfullstats(dailydata)"
   ]
  },
  {
   "cell_type": "code",
   "execution_count": 377,
   "id": "cdf6ea06",
   "metadata": {},
   "outputs": [
    {
     "data": {
      "text/plain": [
       "tensor([[ 5.,  3.,  6.,  7.,  1.],\n",
       "        [ 9.,  8.,  0.,  8.,  4.],\n",
       "        [ 2.,  5.,  7., 10.,  1.],\n",
       "        ...,\n",
       "        [10.,  7.,  7.,  3.,  5.],\n",
       "        [ 2.,  2.,  9.,  7.,  1.],\n",
       "        [ 3.,  8.,  3.,  8.,  7.]])"
      ]
     },
     "execution_count": 377,
     "metadata": {},
     "output_type": "execute_result"
    },
    {
     "data": {
      "text/plain": [
       "tensor([[ 5.,  3.,  6.,  7.,  1.],\n",
       "        [ 9.,  8.,  0.,  8.,  4.],\n",
       "        [ 2.,  5.,  7., 10.,  1.],\n",
       "        ...,\n",
       "        [10.,  7.,  7.,  3.,  5.],\n",
       "        [ 2.,  2.,  9.,  7.,  1.],\n",
       "        [ 3.,  8.,  3.,  8.,  7.]])"
      ]
     },
     "execution_count": 377,
     "metadata": {},
     "output_type": "execute_result"
    }
   ],
   "source": [
    "new_data = edge_norm_fn(dailydata)\n",
    "data[3][dailydata[0].edge_types[1]].edge_attr\n",
    "new_data[3][dailydata[0].edge_types[1]].edge_attr"
   ]
  },
  {
   "cell_type": "code",
   "execution_count": 342,
   "id": "f8115356",
   "metadata": {},
   "outputs": [
    {
     "data": {
      "text/plain": [
       "tensor([[ 8.,  4.,  9.,  5.,  5.,  3.],\n",
       "        [ 4.,  1.,  2.,  8.,  7.,  8.],\n",
       "        [ 7.,  7.,  4.,  7.,  8.,  5.],\n",
       "        ...,\n",
       "        [ 1.,  4.,  1.,  2.,  9.,  5.],\n",
       "        [ 8.,  2.,  5.,  8., 10.,  7.],\n",
       "        [ 9.,  8.,  1.,  1.,  8.,  2.]])"
      ]
     },
     "execution_count": 342,
     "metadata": {},
     "output_type": "execute_result"
    },
    {
     "data": {
      "text/plain": [
       "tensor([[ 0.3030, -0.1022,  0.4018,  0.0022,  0.0026, -0.2051],\n",
       "        [-0.0970, -0.4022, -0.2982,  0.3022,  0.2026,  0.2949],\n",
       "        [ 0.2030,  0.1978, -0.0982,  0.2022,  0.3026, -0.0051],\n",
       "        ...,\n",
       "        [-0.3970, -0.1022, -0.3982, -0.2978,  0.4026, -0.0051],\n",
       "        [ 0.3030, -0.3022,  0.0018,  0.3022,  0.5026,  0.1949],\n",
       "        [ 0.4030,  0.2978, -0.3982, -0.3978,  0.3026, -0.3051]])"
      ]
     },
     "execution_count": 342,
     "metadata": {},
     "output_type": "execute_result"
    }
   ],
   "source": [
    "data = dailydata[0]\n",
    "edge = dailydata[0].edge_types[0]\n",
    "x = data[edge].edge_attr\n",
    "xmean = edge_stats[edge][\"mean\"]\n",
    "xmin,xmax = edge_stats[edge][\"min\"],edge_stats[edge][\"max\"]\n",
    "\n",
    "x\n",
    "data[edge].edge_attr = (x-xmean)/(xmax-xmin)\n",
    "data[edge].edge_attr"
   ]
  },
  {
   "cell_type": "code",
   "execution_count": 345,
   "id": "28f712e2",
   "metadata": {},
   "outputs": [
    {
     "data": {
      "text/plain": [
       "tensor([[ 8.,  4.,  9.,  5.,  5.,  3.],\n",
       "        [ 4.,  1.,  2.,  8.,  7.,  8.],\n",
       "        [ 7.,  7.,  4.,  7.,  8.,  5.],\n",
       "        ...,\n",
       "        [ 1.,  4.,  1.,  2.,  9.,  5.],\n",
       "        [ 8.,  2.,  5.,  8., 10.,  7.],\n",
       "        [ 9.,  8.,  1.,  1.,  8.,  2.]])"
      ]
     },
     "execution_count": 345,
     "metadata": {},
     "output_type": "execute_result"
    }
   ],
   "source": [
    "dailydata[0][edge].edge_attr"
   ]
  },
  {
   "cell_type": "code",
   "execution_count": null,
   "id": "7a4e87f7",
   "metadata": {},
   "outputs": [],
   "source": [
    "data[i][edge].edge_attr = (x-xmean)/(xmax-xmin)"
   ]
  },
  {
   "cell_type": "code",
   "execution_count": 346,
   "id": "b5c1cef9",
   "metadata": {},
   "outputs": [],
   "source": []
  },
  {
   "cell_type": "code",
   "execution_count": 335,
   "id": "9cabac15",
   "metadata": {},
   "outputs": [],
   "source": [
    "transform(dailydata[0])"
   ]
  },
  {
   "cell_type": "code",
   "execution_count": 336,
   "id": "05d4d6b1",
   "metadata": {},
   "outputs": [
    {
     "data": {
      "text/plain": [
       "tensor([[ 8.,  4.,  9.,  5.,  5.,  3.],\n",
       "        [ 4.,  1.,  2.,  8.,  7.,  8.],\n",
       "        [ 7.,  7.,  4.,  7.,  8.,  5.],\n",
       "        ...,\n",
       "        [ 1.,  4.,  1.,  2.,  9.,  5.],\n",
       "        [ 8.,  2.,  5.,  8., 10.,  7.],\n",
       "        [ 9.,  8.,  1.,  1.,  8.,  2.]])"
      ]
     },
     "execution_count": 336,
     "metadata": {},
     "output_type": "execute_result"
    }
   ],
   "source": [
    "data_t[0][(\"node2\", \"to\", \"node1\")].edge_attr"
   ]
  },
  {
   "cell_type": "code",
   "execution_count": null,
   "id": "4f715fbf",
   "metadata": {},
   "outputs": [],
   "source": [
    "def transform_fn(data):\n",
    "   data[edge_type].edge_attr\n",
    "   return data"
   ]
  },
  {
   "cell_type": "code",
   "execution_count": null,
   "id": "348b2420",
   "metadata": {},
   "outputs": [],
   "source": [
    "# test Data split and creation"
   ]
  },
  {
   "cell_type": "markdown",
   "id": "79502fb2",
   "metadata": {},
   "source": [
    "## Changes"
   ]
  },
  {
   "cell_type": "code",
   "execution_count": null,
   "id": "b0615529",
   "metadata": {},
   "outputs": [],
   "source": [
    "def train(model, optimizer, train_loader, device):\n",
    "    model.train()\n",
    "\n",
    "    for data in train_loader:\n",
    "        optimizer.zero_grad()\n",
    "        data = data.to(device)\n",
    "        out = model(data.pos, data.batch)\n",
    "        loss = F.nll_loss(out, data.y)\n",
    "        loss.backward()\n",
    "        optimizer.step()\n",
    "\n",
    "\n",
    "\n",
    "val_losses, accs, durations = [], [], []\n",
    "\n",
    "if torch.cuda.is_available():\n",
    "        torch.cuda.synchronize()\n",
    "    t_start = time.perf_counter()\n",
    "\n",
    "for epoch in range(epochs):\n",
    "    train_loss = train(model, optimizer, train_loader)\n",
    "    val_losses.append(eval_loss(model, val_loader))\n",
    "    accs.append(eval_acc(model, test_loader))\n",
    "    eval_info = {\n",
    "        'fold': fold,\n",
    "        'epoch': epoch,\n",
    "        'train_loss': train_loss,\n",
    "        'val_loss': val_losses[-1],\n",
    "        'test_acc': accs[-1],\n",
    "    }\n",
    "    \n",
    "if torch.cuda.is_available():\n",
    "    torch.cuda.synchronize()\n",
    "t_end = time.perf_counter()\n",
    "durations.append(t_end - t_start)\n",
    "\n",
    "print(f'Epoch: {epoch:03d}, Test: {test_acc:.4f}, '\n",
    "              f'Duration: {t_end - t_start:.2f}')\n",
    "\n"
   ]
  }
 ],
 "metadata": {
  "kernelspec": {
   "display_name": "GNN",
   "language": "python",
   "name": "gnn"
  },
  "language_info": {
   "codemirror_mode": {
    "name": "ipython",
    "version": 3
   },
   "file_extension": ".py",
   "mimetype": "text/x-python",
   "name": "python",
   "nbconvert_exporter": "python",
   "pygments_lexer": "ipython3",
   "version": "3.10.4"
  }
 },
 "nbformat": 4,
 "nbformat_minor": 5
}
